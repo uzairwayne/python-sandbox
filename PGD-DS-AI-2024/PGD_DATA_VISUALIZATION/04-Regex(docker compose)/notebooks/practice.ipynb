{
 "cells": [
  {
   "cell_type": "code",
   "execution_count": 10,
   "id": "0af7a09a-7e30-4ab6-ba8a-030f2c701b12",
   "metadata": {},
   "outputs": [
    {
     "name": "stdout",
     "output_type": "stream",
     "text": [
      "USD: 2.12\n",
      "SGD: 1.4448\n"
     ]
    }
   ],
   "source": [
    "### from decimal import Decimal, getcontext\n",
    "\n",
    "# Set a high precision\n",
    "getcontext().prec = 30\n",
    "\n",
    "# Exchange rate: 1 USD = 1.29 SGD\n",
    "rate = Decimal('1.29')\n",
    "\n",
    "def convert_to_sgd(usd):\n",
    "    return usd * rate\n",
    "\n",
    "# Start with 1 USD and increment until we find a suitable number\n",
    "usd = Decimal('1.12')\n",
    "# while True:\n",
    "sgd = convert_to_sgd(usd)\n",
    "integral_part, decimal_part = str(sgd).split('.')\n",
    "# if (int(integral_part) > 0 and\n",
    "#     len(decimal_part) > 8 and\n",
    "#     '0' * 8 not in decimal_part):  # Ensure at least 8 consecutive non-zero decimals\n",
    "    # break\n",
    "usd += 1\n",
    "\n",
    "print(f\"USD: {usd}\")\n",
    "print(f\"SGD: {sgd}\")"
   ]
  }
 ],
 "metadata": {
  "kernelspec": {
   "display_name": "Python 3 (ipykernel)",
   "language": "python",
   "name": "python3"
  },
  "language_info": {
   "codemirror_mode": {
    "name": "ipython",
    "version": 3
   },
   "file_extension": ".py",
   "mimetype": "text/x-python",
   "name": "python",
   "nbconvert_exporter": "python",
   "pygments_lexer": "ipython3",
   "version": "3.11.6"
  }
 },
 "nbformat": 4,
 "nbformat_minor": 5
}

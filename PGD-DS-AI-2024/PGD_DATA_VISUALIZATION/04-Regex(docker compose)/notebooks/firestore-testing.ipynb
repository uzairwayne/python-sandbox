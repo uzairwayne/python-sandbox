{
 "cells": [
  {
   "cell_type": "code",
   "execution_count": 1,
   "metadata": {},
   "outputs": [],
   "source": [
    "import firebase_admin\n",
    "from firebase_admin import credentials\n",
    "from firebase_admin import firestore\n",
    "import os\n",
    "from datetime import datetime, timedelta\n",
    "import uuid\n",
    "import random"
   ]
  },
  {
   "cell_type": "code",
   "execution_count": 2,
   "metadata": {},
   "outputs": [],
   "source": [
    "# Set the environment variable to use the local Firestore emulator\n",
    "os.environ[\"FIRESTORE_EMULATOR_HOST\"] = \"host.docker.internal:8081\""
   ]
  },
  {
   "cell_type": "code",
   "execution_count": 3,
   "metadata": {},
   "outputs": [
    {
     "data": {
      "text/plain": [
       "<firebase_admin.App at 0x7f14472a3d10>"
      ]
     },
     "execution_count": 3,
     "metadata": {},
     "output_type": "execute_result"
    }
   ],
   "source": [
    "cred = credentials.Certificate(\"./_serviceAccount.json\")\n",
    "firebase_admin.initialize_app(cred)"
   ]
  },
  {
   "cell_type": "code",
   "execution_count": 4,
   "metadata": {},
   "outputs": [],
   "source": [
    "db = firestore.client()"
   ]
  },
  {
   "cell_type": "code",
   "execution_count": 8,
   "metadata": {},
   "outputs": [],
   "source": [
    "# Execute the query and get the results\n",
    "wht_collection = db.collection('whtCodes')"
   ]
  },
  {
   "cell_type": "code",
   "execution_count": 12,
   "metadata": {},
   "outputs": [
    {
     "data": {
      "text/plain": [
       "update_time {\n",
       "  seconds: 1725797609\n",
       "  nanos: 192093000\n",
       "}"
      ]
     },
     "execution_count": 12,
     "metadata": {},
     "output_type": "execute_result"
    }
   ],
   "source": [
    "# Execute the query and get the results\n",
    "doc_ref = wht_collection.document('SG')\n",
    "doc_ref.set({\n",
    "    \"whtCodes\": [{\n",
    "        \"code\": \"1A\",\n",
    "        \"isImportant\": True,\n",
    "        \"name\": \"WC110\",\n",
    "        \"perc\": 5,\n",
    "        \"sourceId\": \"1\"\n",
    "    }, {\n",
    "        \"code\": \"2A\",\n",
    "        \"name\": \"WC117\",\n",
    "        \"perc\": 2,\n",
    "        \"sourceId\": \"2\"\n",
    "    }, {\n",
    "        \"code\": \"WHT15\",\n",
    "        \"isImportant\": True,\n",
    "        \"name\": \"WHT15%\",\n",
    "        \"perc\": 15,\n",
    "        \"sourceId\": \"3\"\n",
    "    }, {\n",
    "        \"code\": \"WHT10\",\n",
    "        \"isImportant\": True,\n",
    "        \"name\": \"WHT10%\",\n",
    "        \"perc\": 10,\n",
    "        \"sourceId\": \"4\"\n",
    "    }]\n",
    "})"
   ]
  },
  {
   "cell_type": "code",
   "execution_count": 20,
   "metadata": {},
   "outputs": [],
   "source": [
    "def generate_sample_bill(bill_number):\n",
    "    \"\"\"Generate a sample bill with the given bill number.\"\"\"\n",
    "    return {\n",
    "        \"action\": \"create\",\n",
    "        \"billId\": str(uuid.uuid4()),\n",
    "        \"vendorId\": \"wFW2BNhegaFQBM0TTboR\",\n",
    "        \"vendorName\": \"Test Vendor From NS Intg 4\",\n",
    "        \"vendorAccountNumber\": f\"ACC-{random.randint(10000, 99999)}\",\n",
    "        \"billStatus\": random.choice([\"draft\", \"scheduled\", \"paid\"]),\n",
    "        \"billNumber\": bill_number,\n",
    "        \"lineItems\": [\n",
    "            {\n",
    "                \"name\": f\"Item {i}\",\n",
    "                \"quantity\": random.randint(1, 10),\n",
    "                \"unitPrice\": round(random.uniform(10, 1000), 2),\n",
    "                \"account\": \"Bank Fees\",\n",
    "                \"accountId\": \"fEhhLF52zpNMznntWhi1\",\n",
    "                \"type\": \"expense\",\n",
    "                \"wht\": {\n",
    "                    \"referenceId\": f\"WHT-{random.randint(1000, 9999)}\",\n",
    "                    \"code\": \"1A\",\n",
    "                    \"displayName\": \"WC110\",\n",
    "                    # \"perc\": random.randint(1, 10)\n",
    "                    \"perc\": 11\n",
    "                }\n",
    "            } for i in range(random.randint(1, 5))\n",
    "        ],\n",
    "        \"total\": 0,  # We'll calculate this based on line items\n",
    "        \"subTotal\": 0,  # We'll calculate this based on line items\n",
    "        \"paymentAmount\": 0,  # We'll calculate this based on total\n",
    "        \"date\": (datetime.now() - timedelta(days=random.randint(0, 30))).strftime(\"%Y-%m-%d\"),\n",
    "        \"dueDate\": (datetime.now() + timedelta(days=random.randint(1, 30))).strftime(\"%Y-%m-%d\"),\n",
    "        \"currency\": 'SGD',\n",
    "        \"currencyRate\": round(random.uniform(0.8, 1.2), 4),\n",
    "        \"isVendorSynced\": True,\n",
    "        \"peakfloId\": f\"PF-{random.randint(10000, 99999)}\",\n",
    "        \"billCreatedAt\": datetime.now().isoformat(),\n",
    "        \"type\": \"BILL\",\n",
    "        \"status\": \"ready\",\n",
    "        \"customerId\": \"demo1Company\",\n",
    "        \"updatedAt\": firestore.SERVER_TIMESTAMP\n",
    "    }\n",
    "\n",
    "def calculate_bill_totals(bill):\n",
    "    \"\"\"Calculate totals for the bill based on line items.\"\"\"\n",
    "    sub_total = 0\n",
    "    total_wht = 0\n",
    "    \n",
    "    for item in bill[\"lineItems\"]:\n",
    "        quantity = item[\"quantity\"]\n",
    "        unit_price = item[\"unitPrice\"]\n",
    "        item_amount = round(quantity * unit_price, 2)\n",
    "        item[\"amount\"] = item_amount\n",
    "        sub_total += item_amount\n",
    "        \n",
    "        if \"wht\" in item:\n",
    "            wht_perc = item[\"wht\"][\"perc\"]\n",
    "            wht_amount = round(item_amount * (wht_perc / 100), 2)\n",
    "            item[\"wht\"][\"amount\"] = wht_amount\n",
    "            total_wht += wht_amount\n",
    "    \n",
    "    bill[\"subTotal\"] = round(sub_total, 2)\n",
    "    bill[\"totalWHT\"] = round(total_wht, 2)\n",
    "    bill[\"total\"] = round(sub_total - total_wht, 2)\n",
    "    bill[\"paymentAmount\"] = bill[\"total\"]\n",
    "\n",
    "def insert_bills_to_firestore(num_bills=10):\n",
    "    \"\"\"Insert the specified number of bills into Firestore.\"\"\"\n",
    "    collection_ref = db.collection(\"netsuite-bill-outgoing-updates\")\n",
    "    \n",
    "    for i in range(1, num_bills + 1):\n",
    "        bill_number = f\"BILL-{datetime.now().strftime('%Y%m%d')}-{i:03d}\"\n",
    "        bill = generate_sample_bill(bill_number)\n",
    "        calculate_bill_totals(bill)\n",
    "        \n",
    "        # add bill\n",
    "        collection_ref.add(bill)\n",
    "        \n",
    "        print(f\"Inserted bill with number: {bill_number}\")"
   ]
  },
  {
   "cell_type": "code",
   "execution_count": 21,
   "metadata": {},
   "outputs": [
    {
     "name": "stdout",
     "output_type": "stream",
     "text": [
      "Inserted bill with number: BILL-20240908-001\n"
     ]
    }
   ],
   "source": [
    "insert_bills_to_firestore(1)"
   ]
  }
 ],
 "metadata": {
  "kernelspec": {
   "display_name": "Python 3 (ipykernel)",
   "language": "python",
   "name": "python3"
  },
  "language_info": {
   "codemirror_mode": {
    "name": "ipython",
    "version": 3
   },
   "file_extension": ".py",
   "mimetype": "text/x-python",
   "name": "python",
   "nbconvert_exporter": "python",
   "pygments_lexer": "ipython3",
   "version": "3.11.6"
  }
 },
 "nbformat": 4,
 "nbformat_minor": 4
}

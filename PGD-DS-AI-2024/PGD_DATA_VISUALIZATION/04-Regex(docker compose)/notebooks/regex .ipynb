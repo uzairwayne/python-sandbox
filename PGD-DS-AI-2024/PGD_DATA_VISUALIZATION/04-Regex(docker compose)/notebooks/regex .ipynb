{
 "cells": [
  {
   "cell_type": "raw",
   "id": "897efa27",
   "metadata": {},
   "source": [
    "Dated: 9 Aug 2024\n",
    "* https://docs.python.org/3/library/re.html\n",
    "* https://www.dataquest.io/blog/regex-cheatsheet/"
   ]
  },
  {
   "cell_type": "code",
   "execution_count": 1,
   "id": "016a0b6f",
   "metadata": {},
   "outputs": [],
   "source": [
    "import re"
   ]
  },
  {
   "cell_type": "code",
   "execution_count": 8,
   "id": "97494acd",
   "metadata": {},
   "outputs": [
    {
     "data": {
      "text/plain": [
       "'pakistan zinda bad \\n123 456 7892\\n\\tm.qasim077@gmail.com\\npanacloud\\nned zinda bad\\n'"
      ]
     },
     "metadata": {},
     "output_type": "display_data"
    },
    {
     "name": "stdout",
     "output_type": "stream",
     "text": [
      "pakistan zinda bad \n",
      "123 456 7892\n",
      "\tm.qasim077@gmail.com\n",
      "panacloud\n",
      "ned zinda bad\n",
      "\n"
     ]
    }
   ],
   "source": [
    "text = \"\"\"pakistan zinda bad \n",
    "123 456 7892\n",
    "\\tm.qasim077@gmail.com\n",
    "panacloud\n",
    "ned zinda bad\n",
    "\"\"\"\n",
    "display(text)\n",
    "print(text)\n",
    "# data = re.findall(\"p\",text, re.IGNORECASE)\n",
    "# print(data)\n",
    "\n",
    "# data = re.findall(\".\",text, re.IGNORECASE)\n",
    "# print(data)"
   ]
  },
  {
   "cell_type": "code",
   "execution_count": 9,
   "id": "94f012e4",
   "metadata": {},
   "outputs": [
    {
     "name": "stdout",
     "output_type": "stream",
     "text": [
      "['p', 'a', 'k', 'i', 's', 't', 'a', 'n', ' ', 'z', 'i', 'n', 'd', 'a', ' ', 'b', 'a', 'd', ' ', '1', '2', '3', ' ', '4', '5', '6', ' ', '7', '8', '9', '2', '\\t', 'm', '.', 'q', 'a', 's', 'i', 'm', '0', '7', '7', '@', 'g', 'm', 'a', 'i', 'l', '.', 'c', 'o', 'm', 'p', 'a', 'n', 'a', 'c', 'l', 'o', 'u', 'd', 'n', 'e', 'd', ' ', 'z', 'i', 'n', 'd', 'a', ' ', 'b', 'a', 'd']\n"
     ]
    }
   ],
   "source": [
    "text = \"\"\"pakistan zinda bad\n",
    "123 456 7892\n",
    "\\tm.qasim077@gmail.com\n",
    "panacloud\n",
    "ned zinda bad\n",
    "\"\"\"\n",
    "\n",
    "data = re.findall('.', text) # . anything except \\n (newline)\n",
    "print(data)"
   ]
  },
  {
   "cell_type": "code",
   "execution_count": 11,
   "id": "cd9cfe9a",
   "metadata": {},
   "outputs": [
    {
     "name": "stdout",
     "output_type": "stream",
     "text": [
      "['pa', 'pa', 'pa']\n"
     ]
    }
   ],
   "source": [
    "text = \"\"\"pakistan zinda bad\n",
    "123 456 7892\n",
    "\\tm.qasim077@gmail.com\n",
    "panacloud\n",
    "ned zinda bad\n",
    "abad pakistan my country\n",
    "xyz abc egh\n",
    "\"\"\"\n",
    "# pa\n",
    "data = re.findall('pa', text) # . anything except \\n (newline)\n",
    "print(data)"
   ]
  },
  {
   "cell_type": "markdown",
   "id": "c4a99772",
   "metadata": {},
   "source": [
    "# *, +\n",
    "* + 1 or many\n",
    "* * 0 or many"
   ]
  },
  {
   "cell_type": "code",
   "execution_count": 13,
   "id": "996d6253",
   "metadata": {},
   "outputs": [
    {
     "name": "stdout",
     "output_type": "stream",
     "text": [
      "['pak', 'pan', 'pak']\n"
     ]
    }
   ],
   "source": [
    "text = \"\"\"pakistan zinda bad\n",
    "123 456 7892\n",
    "\\tm.qasim077@gmail.com\n",
    "panacloud\n",
    "ned zinda bad\n",
    "abad pakistan my country\n",
    "hello world pa\n",
    "xyz abc egh\n",
    "\"\"\"\n",
    "# pa\n",
    "data = re.findall('pa.', text) # pa. first character p, second a, third . (anything expect \\n)\n",
    "print(data)"
   ]
  },
  {
   "cell_type": "code",
   "execution_count": 21,
   "id": "26044079",
   "metadata": {},
   "outputs": [
    {
     "name": "stdout",
     "output_type": "stream",
     "text": [
      "['pakistan zin', 'polan', 'pan', 'pakistan my coun']\n"
     ]
    }
   ],
   "source": [
    "text = \"\"\"pakistan zinda bad\n",
    "123 456 7892\n",
    "polan hello world\n",
    "\\tm.qasim077@gmail.com\n",
    "panacloud\n",
    "ned zinda bad\n",
    "abad pakistan my country\n",
    "hello world pa\n",
    "xyz abc egh\n",
    "\"\"\"\n",
    "data = re.findall('p.*n', text) # pa. first character p, second a, third . (anything expect \\n)\n",
    "print(data)\n",
    "\n",
    "\n",
    "# data = re.findall('.o.n..y', text) # pa. first character p, second a, third . (anything expect \\n)\n",
    "# print(data)\n",
    "\n",
    "# # pa\n",
    "# data = re.findall('z...a', text) # pa. first character p, second a, third . (anything expect \\n)\n",
    "# print(data)\n",
    "\n",
    "# data = re.findall('p......n', text) # pa. first character p, second a, third . (anything expect \\n)\n",
    "# print(data)\n",
    "\n"
   ]
  },
  {
   "cell_type": "code",
   "execution_count": 25,
   "id": "f779f62c",
   "metadata": {},
   "outputs": [
    {
     "name": "stdout",
     "output_type": "stream",
     "text": [
      "['pakistan zin', 'polan', 'pan', 'pakistan my coun']\n"
     ]
    }
   ],
   "source": [
    "text = \"\"\"pakistan zinda bad\n",
    "123 456 7892\n",
    "polan hello world\n",
    "\\tm.qasim077@gmail.com\n",
    "panacloud\n",
    "ned zinda bad\n",
    "abad pakistan my country\n",
    "hello world pa\n",
    "xyz abc egh\n",
    "\"\"\"\n",
    "data = re.findall('p.+n', text) # pa. first character p, second a, third . (anything expect \\n)\n",
    "print(data)\n",
    "\n",
    "\n"
   ]
  },
  {
   "cell_type": "code",
   "execution_count": 36,
   "id": "9a37bdae",
   "metadata": {},
   "outputs": [
    {
     "name": "stdout",
     "output_type": "stream",
     "text": [
      "['p', 'p', 'p', 'p', 'p', 'P', 'pppp', 'pp']\n"
     ]
    }
   ],
   "source": [
    "text = \"\"\"pakistan \\n zinda bad\n",
    "123 456 7892\n",
    "polan hello world\n",
    "\\tm.qasim077@gmail.com\n",
    "panacloud\n",
    "ned zinda bad\n",
    "abad pakistan my country\n",
    "hello world pa\n",
    "Pakistan\n",
    "hello pppp add pp \n",
    "xyz abc egh\n",
    "\"\"\"\n",
    "# data = re.findall('p.+n', text) # pa. first character p, second a, third . (anything expect \\n)\n",
    "# print(data)\n",
    "\n",
    "data = re.findall('p+', text, re.IGNORECASE) # pa. first character p, second a, third . (anything expect \\n)\n",
    "print(data)"
   ]
  },
  {
   "cell_type": "code",
   "execution_count": null,
   "id": "8cba648b",
   "metadata": {},
   "outputs": [],
   "source": [
    "text = \"\"\"pakistan \\n zinda bad\n",
    "123 456 7892\n",
    "polan hello world\n",
    "\\tm.qasim077@gmail.com\n",
    "panacloud\n",
    "ned zinda bad\n",
    "abad pakistan my country\n",
    "hello world pa\n",
    "Pakistan\n",
    "hello pppp add pp \n",
    "xyz abc egh\n",
    "\"\"\""
   ]
  },
  {
   "cell_type": "markdown",
   "id": "e05dc3b7",
   "metadata": {},
   "source": [
    "# ^ and $\n",
    "* ^ start line\n",
    "\n",
    "* $ end of line"
   ]
  },
  {
   "cell_type": "code",
   "execution_count": 61,
   "id": "d0423654",
   "metadata": {},
   "outputs": [
    {
     "name": "stdout",
     "output_type": "stream",
     "text": [
      "['pak zinda bad']\n"
     ]
    }
   ],
   "source": [
    "text = \"\"\"pakistan zinda bad\"\"\"\n",
    "text = \"\"\"pak zinda bad\"\"\"\n",
    "\n",
    "\n",
    "data = re.findall(\"^p.*d$\", text)\n",
    "print(data)"
   ]
  },
  {
   "cell_type": "code",
   "execution_count": 60,
   "id": "06321687",
   "metadata": {},
   "outputs": [
    {
     "name": "stdout",
     "output_type": "stream",
     "text": [
      "[]\n"
     ]
    }
   ],
   "source": [
    "text = \"\"\"pakistan zinda bad\n",
    "123 456 7892\n",
    "polan hello world\n",
    "\\tm.qasim077@gmail.com\n",
    "panacloud\n",
    "ned zinda bad\n",
    "abad pakistan my country\n",
    "hello world pa\n",
    "Pakistan\n",
    "hello pppp add pp \n",
    "xyz abc egh\n",
    "\"\"\"\n",
    "data = re.findall(\"^p.*d$\", text)\n",
    "print(data)"
   ]
  },
  {
   "cell_type": "code",
   "execution_count": 63,
   "id": "e5cf18d8",
   "metadata": {},
   "outputs": [
    {
     "name": "stdout",
     "output_type": "stream",
     "text": [
      "['hello world pa']\n"
     ]
    }
   ],
   "source": [
    "text = \"\"\"pakistan zinda bad\n",
    "123 456 7892\n",
    "polan hello world\n",
    "\\tm.qasim077@gmail.com\n",
    "panacloud\n",
    "ned zinda bad\n",
    "abad pakistan my country\n",
    "hello world pa\n",
    "Pakistan\n",
    "hello pppp add pp \n",
    "xyz abc egh\n",
    "\"\"\"\n",
    "data = re.findall(\"^h.*a$\", text, re.MULTILINE)\n",
    "print(data)\n",
    "\n",
    "# data = re.findall(\"^p.*d$\", text, re.MULTILINE)\n",
    "# print(data)"
   ]
  },
  {
   "cell_type": "markdown",
   "id": "efb234c7",
   "metadata": {},
   "source": [
    "# ?"
   ]
  },
  {
   "cell_type": "code",
   "execution_count": 72,
   "id": "dbac8050",
   "metadata": {},
   "outputs": [
    {
     "data": {
      "text/plain": [
       "['pak', 'po', 'pa', 'pak', 'pa', 'pik', 'po', 'pp', 'pp', 'pp']"
      ]
     },
     "execution_count": 72,
     "metadata": {},
     "output_type": "execute_result"
    }
   ],
   "source": [
    "text = \"\"\"pakistan zinda bad\n",
    "123 456 7892\n",
    "polan hello world\n",
    "\\tm.qasim077@gmail.com\n",
    "panacloud\n",
    "ned zinda bad\n",
    "abad pakistan my country\n",
    "hello world pa\n",
    "pik \n",
    "pop\n",
    "Pakistan\n",
    "hello pppp add pp \n",
    "xyz abc egh\n",
    "\"\"\"\n",
    "\n",
    "data = re.findall(\"p.k?\", text)\n",
    "data"
   ]
  },
  {
   "cell_type": "code",
   "execution_count": 76,
   "id": "a2379036",
   "metadata": {},
   "outputs": [
    {
     "name": "stdout",
     "output_type": "stream",
     "text": [
      "['pakistan zin', 'polan', 'pan', 'pakistan my coun']\n",
      "['pakistan', 'polan', 'pan', 'pakistan']\n"
     ]
    }
   ],
   "source": [
    "text = \"\"\"pakistan zinda bad\n",
    "123 456 7892\n",
    "polan hello world\n",
    "\\tm.qasim077@gmail.com\n",
    "panacloud\n",
    "ned zinda bad\n",
    "abad pakistan my country\n",
    "hello world pa\n",
    "pik \n",
    "pop\n",
    "Pakistan\n",
    "hello pppp add pp \n",
    "xyz abc egh\n",
    "\"\"\"\n",
    "\n",
    "data = re.findall(\"p.*n\", text)\n",
    "print(data)\n",
    "\n",
    "data = re.findall(\"p.*?n\", text)\n",
    "print(data)"
   ]
  },
  {
   "cell_type": "code",
   "execution_count": 80,
   "id": "6af55cd0",
   "metadata": {},
   "outputs": [
    {
     "name": "stdout",
     "output_type": "stream",
     "text": [
      "['<h1>This is a Heading</h1>', '<p>This is a paragraph.</p>']\n"
     ]
    }
   ],
   "source": [
    "text = \"\"\"\n",
    "\n",
    " Pakistan \n",
    " \n",
    "<h1>This is a Heading</h1>\n",
    "<p>This is a paragraph.</p>\n",
    "\n",
    "zinda bad\n",
    "\n",
    "\"\"\"\n",
    "\n",
    "pattern = \"<.*?>*.?</.*?>\"\n",
    "\n",
    "data = re.findall(pattern, text)\n",
    "\n",
    "print(data)\n"
   ]
  },
  {
   "cell_type": "code",
   "execution_count": 8,
   "id": "b731a1a4",
   "metadata": {},
   "outputs": [
    {
     "name": "stdout",
     "output_type": "stream",
     "text": [
      "['<h1>This is a Heading</h1>', '<h2>Second heading</h2>']\n"
     ]
    }
   ],
   "source": [
    "import re\n",
    "\n",
    "text = \"\"\"\n",
    "\n",
    " Pakistan \n",
    " \n",
    "<h1>This is a Heading</h1>\n",
    "<h2>Second heading</h2>\n",
    "<p>This is a paragraph.</p>\n",
    "\n",
    "zinda bad\n",
    "\n",
    "\"\"\"\n",
    "\n",
    "pattern = \"<h.>.*</h.>\"\n",
    "\n",
    "data = re.findall(pattern, text, re.MULTILINE)\n",
    "\n",
    "print(data)\n"
   ]
  },
  {
   "cell_type": "markdown",
   "id": "0e8034db",
   "metadata": {},
   "source": [
    "# {m,n}"
   ]
  },
  {
   "cell_type": "code",
   "execution_count": 12,
   "id": "1f56cc7c",
   "metadata": {},
   "outputs": [
    {
     "name": "stdout",
     "output_type": "stream",
     "text": [
      "['pppp', 'pppp', 'pppp', 'pppp', 'pppp']\n"
     ]
    }
   ],
   "source": [
    "text = \"\"\"\n",
    "pakistan zinda bad\n",
    "123 456 7892\n",
    "polan hello world\n",
    "\\tm.qasim077@gmail.com\n",
    "panacloud\n",
    "ned zinda bad\n",
    "abad pakistan my country\n",
    "hello world pa\n",
    "pik \n",
    "pop\n",
    "Pakistan\n",
    "hello pppp add pp \n",
    "pppppp pppppppp pppppp\n",
    "xyz abc egh\n",
    "\"\"\"\n",
    "\n",
    "data = re.findall(\"p{4}\", text)\n",
    "print(data)"
   ]
  },
  {
   "cell_type": "code",
   "execution_count": 18,
   "id": "c3836191",
   "metadata": {},
   "outputs": [
    {
     "name": "stdout",
     "output_type": "stream",
     "text": [
      "['paaaak', 'pyyyyk']\n"
     ]
    }
   ],
   "source": [
    "text = \"\"\"\n",
    "pakistan zinda bad\n",
    "123 456 7892\n",
    "polan hello world\n",
    "\\tm.qasim077@gmail.com\n",
    "panacloud\n",
    "ned zinda bad\n",
    "abad pakistan my country\n",
    "hello world pa\n",
    "pik \n",
    "pop\n",
    "Pakistan\n",
    "hello pppp add pp \n",
    "pppppp pppppppp pppppp\n",
    "\n",
    "paaaak\n",
    "pyyyyk\n",
    "p222k\n",
    "xyz abc egh\n",
    "\"\"\"\n",
    "\n",
    "data = re.findall(\"p.{4}k\", text)\n",
    "print(data)"
   ]
  },
  {
   "cell_type": "code",
   "execution_count": 19,
   "id": "113b9f63",
   "metadata": {},
   "outputs": [
    {
     "name": "stdout",
     "output_type": "stream",
     "text": [
      "['paaaak', 'pyyyyk', 'p222k']\n"
     ]
    }
   ],
   "source": [
    "text = \"\"\"\n",
    "pakistan zinda bad\n",
    "123 456 7892\n",
    "polan hello world\n",
    "\\tm.qasim077@gmail.com\n",
    "panacloud\n",
    "ned zinda bad\n",
    "abad pakistan my country\n",
    "hello world pa\n",
    "pik \n",
    "pop\n",
    "Pakistan\n",
    "hello pppp add pp \n",
    "pppppp pppppppp pppppp\n",
    "\n",
    "paaaak\n",
    "pyyyyk\n",
    "p222k\n",
    "xyz abc egh\n",
    "\"\"\"\n",
    "\n",
    "data = re.findall(\"p.{3,4}k\", text)\n",
    "print(data)"
   ]
  },
  {
   "cell_type": "code",
   "execution_count": 24,
   "id": "36dd6a95",
   "metadata": {},
   "outputs": [
    {
     "name": "stdout",
     "output_type": "stream",
     "text": [
      "['pakistan', 'polan', 'pakistan']\n"
     ]
    }
   ],
   "source": [
    "text = \"\"\"\n",
    "pakistan zinda bad\n",
    "123 456 7892\n",
    "polan hello world\n",
    "\\tm.qasim077@gmail.com\n",
    "panacloud\n",
    "ned zinda bad\n",
    "abad pakistan my country\n",
    "hello world pa\n",
    "pik \n",
    "pop\n",
    "Pakistan\n",
    "hello pppp add pp \n",
    "pppppp pppppppp pppppp\n",
    "\n",
    "paaaak\n",
    "pyyyyk\n",
    "p222k\n",
    "xyz abc egh\n",
    "\"\"\"\n",
    "\n",
    "data = re.findall(\"p.{2,10}?n\", text)\n",
    "print(data)"
   ]
  },
  {
   "cell_type": "code",
   "execution_count": 28,
   "id": "8de13cd0",
   "metadata": {},
   "outputs": [
    {
     "name": "stdout",
     "output_type": "stream",
     "text": [
      "['pak', 'tan', 'polan', 'pan', 'abad pak', 'tan', 'pik', 'ak', 'tan', 'paaaak', 'pyyyyk', 'p222k', 'abc egh', 'tofail adn', 'an']\n"
     ]
    }
   ],
   "source": [
    "text = \"\"\"\n",
    "pakistan zinda bad\n",
    "123 456 7892\n",
    "polan hello world\n",
    "\\tm.qasim077@gmail.com\n",
    "panacloud\n",
    "ned zinda bad\n",
    "abad pakistan my country\n",
    "hello world pa\n",
    "pik \n",
    "pop\n",
    "Pakistan\n",
    "hello pppp add pp \n",
    "pppppp pppppppp pppppp\n",
    "\n",
    "paaaak\n",
    "pyyyyk\n",
    "p222k\n",
    "xyz abc egh\n",
    "tofail adnan\n",
    "\"\"\"\n",
    "\n",
    "data = re.findall(\"[pta].*?[nkh]\", text)# p or t or a should be in start line\n",
    "print(data)"
   ]
  },
  {
   "cell_type": "code",
   "execution_count": 32,
   "id": "95e094f2",
   "metadata": {},
   "outputs": [
    {
     "data": {
      "text/plain": [
       "['<h1>This is a Heading</h1>',\n",
       " '<h2>Second heading</h2>',\n",
       " '<h3>Hello world</h3>']"
      ]
     },
     "execution_count": 32,
     "metadata": {},
     "output_type": "execute_result"
    }
   ],
   "source": [
    "text = \"\"\"\n",
    "\n",
    " Pakistan \n",
    " \n",
    "<h1>This is a Heading</h1>\n",
    "<h2>Second heading</h2>\n",
    "<p>This is a paragraph.</p>\n",
    "<h3>Hello world</h3>\n",
    "\n",
    "zinda bad\n",
    "\n",
    "\"\"\"\n",
    "\n",
    "data = re.findall(\"<h[123456]>.*?</h[123456]>\", text)\n",
    "data"
   ]
  },
  {
   "cell_type": "code",
   "execution_count": 34,
   "id": "a744c54e",
   "metadata": {},
   "outputs": [
    {
     "data": {
      "text/plain": [
       "['<h1>This is a Heading</h1>',\n",
       " '<h2>Second heading</h2>',\n",
       " '<h3>Hello world</h3>']"
      ]
     },
     "execution_count": 34,
     "metadata": {},
     "output_type": "execute_result"
    }
   ],
   "source": [
    "text = \"\"\"\n",
    "\n",
    " Pakistan \n",
    " \n",
    "<h1>This is a Heading</h1>\n",
    "<h2>Second heading</h2>\n",
    "<p>This is a paragraph.</p>\n",
    "<h3>Hello world</h3>\n",
    "\n",
    "zinda bad\n",
    "\n",
    "\"\"\"\n",
    "\n",
    "data = re.findall(\"<h[1-6]{1}>.*?</h[1-6]{1}>\", text)\n",
    "data"
   ]
  },
  {
   "cell_type": "code",
   "execution_count": 41,
   "id": "2db335d9",
   "metadata": {},
   "outputs": [
    {
     "data": {
      "text/plain": [
       "['This is a Heading', 'Second heading', 'Hello world']"
      ]
     },
     "execution_count": 41,
     "metadata": {},
     "output_type": "execute_result"
    }
   ],
   "source": [
    "text = \"\"\"\n",
    "\n",
    " Pakistan \n",
    " \n",
    "<h1>This is a Heading</h1>\n",
    "<h2>Second heading</h2>\n",
    "<p>This is a paragraph.</p>\n",
    "<h3>Hello world</h3>\n",
    "\n",
    "\n",
    "\n",
    "zinda bad\n",
    "\n",
    "\"\"\"\n",
    "\n",
    "data = re.findall(\"<h[1-6]>(.*?)</h[1-6]>\", text)\n",
    "data"
   ]
  },
  {
   "cell_type": "code",
   "execution_count": 45,
   "id": "cb03de1b",
   "metadata": {},
   "outputs": [
    {
     "data": {
      "text/plain": [
       "['42201-7578760-1', '42201-7578761-2', '42201-7578762-3']"
      ]
     },
     "execution_count": 45,
     "metadata": {},
     "output_type": "execute_result"
    }
   ],
   "source": [
    "text = \"\"\"\n",
    "\n",
    " Pakistan \n",
    " \n",
    "<h1>This is a Heading</h1>\n",
    "<h2>Second heading</h2>\n",
    "<p>This is a paragraph.</p>\n",
    "<h3>Hello world</h3>\n",
    "\n",
    "42201-7578760-1\n",
    "42201-7578761-2\n",
    "42201-7578762-3\n",
    "\n",
    "zinda bad\n",
    "\n",
    "\"\"\"\n",
    "\n",
    "data = re.findall(\"[0-9]{5}-[0-9]{7}-[0-9]{1}\", text)\n",
    "data"
   ]
  },
  {
   "cell_type": "code",
   "execution_count": 62,
   "id": "93305b65",
   "metadata": {},
   "outputs": [
    {
     "data": {
      "text/plain": [
       "[('42201', '7578760', '1'), ('42201', '7578761', '2')]"
      ]
     },
     "execution_count": 62,
     "metadata": {},
     "output_type": "execute_result"
    }
   ],
   "source": [
    "text = \"\"\"\n",
    "\n",
    " Pakistan \n",
    " \n",
    "<h1>This is a Heading</h1>\n",
    "<h2>Second heading</h2>\n",
    "<p>This is a paragraph.</p>\n",
    "<h3>Hello world</h3>\n",
    "\n",
    "42201-7578760-1\n",
    "42201-7578761-2\n",
    "42201222-7578762-4\n",
    "\n",
    "zinda bad\n",
    "\n",
    "\"\"\"\n",
    "\n",
    "data = re.findall(\"^(\\d{5})-(\\d{7})-(\\d{1})$\", text, re.MULTILINE)\n",
    "data"
   ]
  },
  {
   "cell_type": "code",
   "execution_count": null,
   "id": "dcaf8170",
   "metadata": {},
   "outputs": [],
   "source": []
  }
 ],
 "metadata": {
  "kernelspec": {
   "display_name": "Python 3 (ipykernel)",
   "language": "python",
   "name": "python3"
  },
  "language_info": {
   "codemirror_mode": {
    "name": "ipython",
    "version": 3
   },
   "file_extension": ".py",
   "mimetype": "text/x-python",
   "name": "python",
   "nbconvert_exporter": "python",
   "pygments_lexer": "ipython3",
   "version": "3.11.3"
  }
 },
 "nbformat": 4,
 "nbformat_minor": 5
}

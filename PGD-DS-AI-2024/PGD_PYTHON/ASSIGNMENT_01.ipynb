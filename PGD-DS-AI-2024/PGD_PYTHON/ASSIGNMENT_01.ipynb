{
 "cells": [
  {
   "cell_type": "markdown",
   "metadata": {},
   "source": [
    "google class task link\n",
    "https://classroom.google.com/u/0/c/NjcxOTU0MDE5MjI4/a/NjUyODUzMTg1NTc2/details"
   ]
  },
  {
   "cell_type": "code",
   "execution_count": 6,
   "metadata": {},
   "outputs": [
    {
     "name": "stdout",
     "output_type": "stream",
     "text": [
      "Wait for 2 years\n"
     ]
    }
   ],
   "source": [
    "# Task 1\n",
    "# Get user input using input(“Enter your age: ”). If user is 18 or older, give feedback: You are old enough to drive. If below 18 give feedback to wait for the missing amount of years. Output:\n",
    "\n",
    "age = int(input(\"Enter your age:\"))\n",
    "ageLimit = 18\n",
    "diff = ageLimit - age\n",
    "\n",
    "if age >= ageLimit:\n",
    "  print(\"You are old enough to drive\")\n",
    "else:\n",
    "  print(f'Wait for {diff} {'years' if diff > 1 else 'year'}')"
   ]
  },
  {
   "cell_type": "code",
   "execution_count": 16,
   "metadata": {},
   "outputs": [
    {
     "name": "stdout",
     "output_type": "stream",
     "text": [
      "You are 8 years younger than me\n"
     ]
    }
   ],
   "source": [
    "# Task 2\n",
    "# Compare the values of my_age and your_age using if … else. Who is older (me or you)? Use input(“Enter your age: ”) to get the age as input. You can use a nested condition to print 'year' for 1 year difference in age, 'years' for bigger differences, and a custom text if my_age = your_age.\n",
    "\n",
    "myAge = 28\n",
    "yourAge = int(input(\"Enter your age:\"))\n",
    "diff = myAge - yourAge\n",
    "\n",
    "if diff == 0:\n",
    "  print(\"We are same age\")\n",
    "elif diff > 0:\n",
    "  print(f'You are {diff} {'years' if diff > 1 else 'year'} younger than me')\n",
    "else:\n",
    "  print(f'You are {abs(diff)} {'years' if abs(diff) > 1 else 'year'} elder than me')"
   ]
  },
  {
   "cell_type": "code",
   "execution_count": 19,
   "metadata": {},
   "outputs": [
    {
     "name": "stdout",
     "output_type": "stream",
     "text": [
      "a is greater than b\n"
     ]
    }
   ],
   "source": [
    "# Task 3\n",
    "# Get two numbers from the user using input prompt. If a is greater than b return a is greater than b, if a is less b return a is smaller than b, else a is equal to b.\n",
    "\n",
    "a = int(input('Enter first number (a):'))\n",
    "b = int(input('Enter second number (b):'))\n",
    "\n",
    "if a > b:\n",
    "  print('a is greater than b')\n",
    "elif a < b:\n",
    "  print('a is less than b')\n",
    "else:\n",
    "  print('a is equal to b')"
   ]
  },
  {
   "cell_type": "code",
   "execution_count": null,
   "metadata": {},
   "outputs": [],
   "source": []
  }
 ],
 "metadata": {
  "kernelspec": {
   "display_name": "Python 3",
   "language": "python",
   "name": "python3"
  },
  "language_info": {
   "codemirror_mode": {
    "name": "ipython",
    "version": 3
   },
   "file_extension": ".py",
   "mimetype": "text/x-python",
   "name": "python",
   "nbconvert_exporter": "python",
   "pygments_lexer": "ipython3",
   "version": "3.12.3"
  }
 },
 "nbformat": 4,
 "nbformat_minor": 2
}

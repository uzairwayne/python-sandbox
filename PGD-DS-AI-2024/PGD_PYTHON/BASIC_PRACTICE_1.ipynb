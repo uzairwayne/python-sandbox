{
 "cells": [
  {
   "cell_type": "markdown",
   "metadata": {},
   "source": [
    "# Basic Python Program for Practice"
   ]
  },
  {
   "cell_type": "code",
   "execution_count": 1,
   "metadata": {},
   "outputs": [
    {
     "name": "stdout",
     "output_type": "stream",
     "text": [
      "23.0°C = 73.4°F.\n"
     ]
    }
   ],
   "source": [
    "# 1-Write a program to convert Celsius to Fahrenheit.\n",
    "\n",
    "try:\n",
    "  celsius = float(input(\"Enter the temperature in Celsius: \"))\n",
    "\n",
    "  fahrenheit = (celsius * 9/5) + 32\n",
    "\n",
    "  print(f\"{celsius}°C = {fahrenheit}°F.\")\n",
    "except:\n",
    "    print(\"Invalid input. Please enter a number.\")"
   ]
  },
  {
   "cell_type": "code",
   "execution_count": 3,
   "metadata": {},
   "outputs": [
    {
     "name": "stdout",
     "output_type": "stream",
     "text": [
      "7 is prime? True\n"
     ]
    }
   ],
   "source": [
    "# 2-Write a program to check if a number is prime.\n",
    "\n",
    "try:\n",
    "  number = int(input('Enter number:'))\n",
    "  def isPrime():\n",
    "    if (number <= 1):\n",
    "      return False\n",
    "\n",
    "    for i in range(2, number):\n",
    "      if (number % i == 0):\n",
    "        return False\n",
    "\n",
    "    return True\n",
    "\n",
    "  print(f'{number} is prime?', isPrime())\n",
    "except:\n",
    "    print(\"Invalid input. Please enter a number.\")"
   ]
  },
  {
   "cell_type": "code",
   "execution_count": 4,
   "metadata": {},
   "outputs": [
    {
     "name": "stdout",
     "output_type": "stream",
     "text": [
      "Is String Palindrome? True\n"
     ]
    }
   ],
   "source": [
    "# 3-Write a program to check if a string is a palindrome.\n",
    "\n",
    "stringToCheckForPalindrome = input('Enter word:')\n",
    "\n",
    "listRange = list(reversed(range(0, len(stringToCheckForPalindrome))))\n",
    "reverseStr = ''\n",
    "\n",
    "for i in listRange:\n",
    "  reverseStr += stringToCheckForPalindrome[i]\n",
    "\n",
    "isPalindrome = stringToCheckForPalindrome == reverseStr\n",
    "print(f'Is String Palindrome? {isPalindrome}')"
   ]
  },
  {
   "cell_type": "code",
   "execution_count": 6,
   "metadata": {},
   "outputs": [
    {
     "name": "stdout",
     "output_type": "stream",
     "text": [
      "Reversed = 154321\n"
     ]
    }
   ],
   "source": [
    "# 4-Write a program to reverse a string or list.\n",
    "\n",
    "inputString = input('Enter word:')\n",
    "\n",
    "listRange = list(reversed(range(0, len(inputString))))\n",
    "reverseStr = ''\n",
    "\n",
    "for i in listRange:\n",
    "  reverseStr += inputString[i]\n",
    "\n",
    "print(f'Reversed = {reverseStr}')"
   ]
  },
  {
   "cell_type": "code",
   "execution_count": 7,
   "metadata": {},
   "outputs": [
    {
     "name": "stdout",
     "output_type": "stream",
     "text": [
      "Largest = 1000\n"
     ]
    }
   ],
   "source": [
    "# 5-Write a program to find the largest number in a list.\n",
    "\n",
    "array = [1, 2, 3, 4, 5, 80, 1, 11, 21, 1000, 22, 141, 111]\n",
    "largest = array[0]\n",
    "for i in array:\n",
    "  if i > largest:\n",
    "    largest = i\n",
    "print(f'Largest = {largest}')"
   ]
  },
  {
   "cell_type": "code",
   "execution_count": 8,
   "metadata": {},
   "outputs": [
    {
     "name": "stdout",
     "output_type": "stream",
     "text": [
      "Sum = 15\n"
     ]
    }
   ],
   "source": [
    "# 6-Write a program to find the sum of all numbers in a list.\n",
    "\n",
    "sum = 0\n",
    "array = [1,2,3,4,5]\n",
    "for i in array:\n",
    "  sum += i\n",
    "  \n",
    "print(f'Sum = {sum}')"
   ]
  },
  {
   "cell_type": "code",
   "execution_count": 19,
   "metadata": {},
   "outputs": [
    {
     "name": "stdout",
     "output_type": "stream",
     "text": [
      "isEven? False\n"
     ]
    }
   ],
   "source": [
    "# 7-Write a program to check if a number is even or odd.\n",
    "\n",
    "try: \n",
    "  number = int(input(\"Enter a number: \"))\n",
    "  print(f'isEven? {number & 1 == 0}')\n",
    "except:\n",
    "  print(\"Invalid input. Please enter a number.\")"
   ]
  }
 ],
 "metadata": {
  "kernelspec": {
   "display_name": "Python 3",
   "language": "python",
   "name": "python3"
  },
  "language_info": {
   "codemirror_mode": {
    "name": "ipython",
    "version": 3
   },
   "file_extension": ".py",
   "mimetype": "text/x-python",
   "name": "python",
   "nbconvert_exporter": "python",
   "pygments_lexer": "ipython3",
   "version": "3.12.3"
  }
 },
 "nbformat": 4,
 "nbformat_minor": 2
}

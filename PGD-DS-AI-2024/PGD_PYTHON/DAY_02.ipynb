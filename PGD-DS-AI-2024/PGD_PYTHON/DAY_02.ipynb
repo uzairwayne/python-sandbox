{
 "cells": [
  {
   "cell_type": "code",
   "execution_count": 2,
   "id": "d6fc63bf-97c5-48d8-afb2-ddea213e65c0",
   "metadata": {},
   "outputs": [
    {
     "name": "stdout",
     "output_type": "stream",
     "text": [
      "sum\n",
      "sum\n"
     ]
    },
    {
     "data": {
      "text/plain": [
       "'sum'"
      ]
     },
     "execution_count": 2,
     "metadata": {},
     "output_type": "execute_result"
    }
   ],
   "source": [
    "_ = \"sum\"\n",
    "print(_)\n",
    "_\n",
    "print(_)\n",
    "_"
   ]
  },
  {
   "cell_type": "code",
   "execution_count": 22,
   "id": "17dfbf2c-1c77-4efe-ba2b-4d055b0f122b",
   "metadata": {},
   "outputs": [],
   "source": [
    "num_1 = 5\n",
    "num_2 = 6"
   ]
  },
  {
   "cell_type": "code",
   "execution_count": 23,
   "id": "b50cd0e5-2b01-4f27-9fd3-4c0f7c827703",
   "metadata": {},
   "outputs": [],
   "source": [
    "sum = num_1 + num_2"
   ]
  },
  {
   "cell_type": "code",
   "execution_count": 24,
   "id": "2ab4a985-f3bf-4441-ae6f-b4825763b82c",
   "metadata": {},
   "outputs": [
    {
     "name": "stdout",
     "output_type": "stream",
     "text": [
      "11\n"
     ]
    }
   ],
   "source": [
    "print(sum)"
   ]
  },
  {
   "cell_type": "code",
   "execution_count": 25,
   "id": "dfe0987a-3f17-4aca-9937-c4a15e0328fd",
   "metadata": {},
   "outputs": [
    {
     "data": {
      "text/plain": [
       "11"
      ]
     },
     "execution_count": 25,
     "metadata": {},
     "output_type": "execute_result"
    }
   ],
   "source": [
    "sum"
   ]
  },
  {
   "cell_type": "markdown",
   "id": "74800858-eb2d-4b59-8171-0f063b876ff7",
   "metadata": {},
   "source": [
    "this is a markdown"
   ]
  },
  {
   "cell_type": "raw",
   "id": "77b82330-c78d-436e-95e3-3e8223c58f4f",
   "metadata": {},
   "source": [
    "two types of programming\n",
    "1- static (no one can change, defined by coder)\n",
    "2- dynamic (user defined)"
   ]
  },
  {
   "cell_type": "code",
   "execution_count": 26,
   "id": "384f029b-5d1a-4013-bdbd-cc7cdb48d0e6",
   "metadata": {},
   "outputs": [
    {
     "name": "stdout",
     "output_type": "stream",
     "text": [
      "Enter the First Number:  6\n",
      "Enter the Second Number:  7\n"
     ]
    }
   ],
   "source": [
    "num_1 = input(\"Enter the First Number: \")\n",
    "num_2 = input(\"Enter the Second Number: \")"
   ]
  },
  {
   "cell_type": "code",
   "execution_count": 27,
   "id": "4d306111-53a9-4fd0-8cb5-008a29509b89",
   "metadata": {},
   "outputs": [
    {
     "data": {
      "text/plain": [
       "'6'"
      ]
     },
     "execution_count": 27,
     "metadata": {},
     "output_type": "execute_result"
    }
   ],
   "source": [
    "num_1"
   ]
  },
  {
   "cell_type": "raw",
   "id": "cd48eb3e-af2c-46d0-9eb3-849dd0d4c4b1",
   "metadata": {},
   "source": [
    "type casting: convert from one type to other"
   ]
  },
  {
   "cell_type": "code",
   "execution_count": 28,
   "id": "d4cdf23d-b937-4074-a911-5728e4ec0769",
   "metadata": {},
   "outputs": [
    {
     "data": {
      "text/plain": [
       "6"
      ]
     },
     "execution_count": 28,
     "metadata": {},
     "output_type": "execute_result"
    }
   ],
   "source": [
    "int('6')"
   ]
  },
  {
   "cell_type": "code",
   "execution_count": 29,
   "id": "d31891c2-6743-47b2-8120-552b216d44b6",
   "metadata": {},
   "outputs": [
    {
     "ename": "ValueError",
     "evalue": "invalid literal for int() with base 10: 'a'",
     "output_type": "error",
     "traceback": [
      "\u001b[1;31m---------------------------------------------------------------------------\u001b[0m",
      "\u001b[1;31mValueError\u001b[0m                                Traceback (most recent call last)",
      "Cell \u001b[1;32mIn[29], line 1\u001b[0m\n\u001b[1;32m----> 1\u001b[0m \u001b[38;5;28mint\u001b[39m(\u001b[38;5;124m'\u001b[39m\u001b[38;5;124ma\u001b[39m\u001b[38;5;124m'\u001b[39m)\n",
      "\u001b[1;31mValueError\u001b[0m: invalid literal for int() with base 10: 'a'"
     ]
    }
   ],
   "source": [
    "int('a')"
   ]
  },
  {
   "cell_type": "code",
   "execution_count": 31,
   "id": "1b37c828-9a85-4188-b87c-c98fad1c684f",
   "metadata": {},
   "outputs": [
    {
     "data": {
      "text/plain": [
       "'1'"
      ]
     },
     "execution_count": 31,
     "metadata": {},
     "output_type": "execute_result"
    }
   ],
   "source": [
    "str(1)"
   ]
  },
  {
   "cell_type": "code",
   "execution_count": 32,
   "id": "42771000-b5eb-4522-969a-f195b06a1dcd",
   "metadata": {},
   "outputs": [
    {
     "data": {
      "text/plain": [
       "'True'"
      ]
     },
     "execution_count": 32,
     "metadata": {},
     "output_type": "execute_result"
    }
   ],
   "source": [
    "str(True)"
   ]
  },
  {
   "cell_type": "code",
   "execution_count": 33,
   "id": "e270c4ec-e95b-4152-8e3c-b8ca1c729969",
   "metadata": {},
   "outputs": [
    {
     "data": {
      "text/plain": [
       "1"
      ]
     },
     "execution_count": 33,
     "metadata": {},
     "output_type": "execute_result"
    }
   ],
   "source": [
    "int(True)"
   ]
  },
  {
   "cell_type": "code",
   "execution_count": 34,
   "id": "1181acbf-60ec-45ba-becf-4c38131ea4fc",
   "metadata": {},
   "outputs": [
    {
     "data": {
      "text/plain": [
       "True"
      ]
     },
     "execution_count": 34,
     "metadata": {},
     "output_type": "execute_result"
    }
   ],
   "source": [
    "bool('True')"
   ]
  },
  {
   "cell_type": "code",
   "execution_count": 35,
   "id": "b960c65a-6af2-4a78-95f3-4991f801b69a",
   "metadata": {},
   "outputs": [
    {
     "data": {
      "text/plain": [
       "True"
      ]
     },
     "execution_count": 35,
     "metadata": {},
     "output_type": "execute_result"
    }
   ],
   "source": [
    "bool(1)"
   ]
  },
  {
   "cell_type": "code",
   "execution_count": 36,
   "id": "061935f3-4d9c-4af4-a579-dc2d67a8a50a",
   "metadata": {},
   "outputs": [
    {
     "data": {
      "text/plain": [
       "True"
      ]
     },
     "execution_count": 36,
     "metadata": {},
     "output_type": "execute_result"
    }
   ],
   "source": [
    "bool(2)"
   ]
  },
  {
   "cell_type": "code",
   "execution_count": 37,
   "id": "87cc9080-6996-4072-91bc-21ef338f8f4f",
   "metadata": {},
   "outputs": [
    {
     "data": {
      "text/plain": [
       "False"
      ]
     },
     "execution_count": 37,
     "metadata": {},
     "output_type": "execute_result"
    }
   ],
   "source": [
    "bool(0)"
   ]
  },
  {
   "cell_type": "code",
   "execution_count": 38,
   "id": "8d59708c-9572-464f-be20-71c5fd6d16a3",
   "metadata": {},
   "outputs": [
    {
     "data": {
      "text/plain": [
       "1"
      ]
     },
     "execution_count": 38,
     "metadata": {},
     "output_type": "execute_result"
    }
   ],
   "source": [
    "int(True)"
   ]
  },
  {
   "cell_type": "code",
   "execution_count": 39,
   "id": "f411c5c9-f292-4545-9c18-1d36c0440e3c",
   "metadata": {},
   "outputs": [
    {
     "data": {
      "text/plain": [
       "1.0"
      ]
     },
     "execution_count": 39,
     "metadata": {},
     "output_type": "execute_result"
    }
   ],
   "source": [
    "float(True)"
   ]
  },
  {
   "cell_type": "code",
   "execution_count": 40,
   "id": "b90ce4f0-592c-4666-ae6e-981766784bc5",
   "metadata": {},
   "outputs": [
    {
     "data": {
      "text/plain": [
       "1.0"
      ]
     },
     "execution_count": 40,
     "metadata": {},
     "output_type": "execute_result"
    }
   ],
   "source": [
    "float(1)"
   ]
  },
  {
   "cell_type": "code",
   "execution_count": 41,
   "id": "3e824dcc-355c-419b-8a25-b01ca9764a88",
   "metadata": {},
   "outputs": [
    {
     "data": {
      "text/plain": [
       "1.00012"
      ]
     },
     "execution_count": 41,
     "metadata": {},
     "output_type": "execute_result"
    }
   ],
   "source": [
    "float(1.00012)"
   ]
  },
  {
   "cell_type": "code",
   "execution_count": 43,
   "id": "211999bc-2b20-4196-8d18-80452fac88cc",
   "metadata": {},
   "outputs": [
    {
     "data": {
      "text/plain": [
       "1.00012"
      ]
     },
     "execution_count": 43,
     "metadata": {},
     "output_type": "execute_result"
    }
   ],
   "source": [
    "float(\"1.00012\")"
   ]
  },
  {
   "cell_type": "code",
   "execution_count": 44,
   "id": "4b17599a-f781-4edf-81b0-468ae3e39fb5",
   "metadata": {},
   "outputs": [
    {
     "name": "stdout",
     "output_type": "stream",
     "text": [
      "Enter the First Number:  1\n",
      "Enter the Second Number:  2\n"
     ]
    }
   ],
   "source": [
    "num_1 = int(input(\"Enter the First Number: \"))\n",
    "num_2 = int(input(\"Enter the Second Number: \"))"
   ]
  },
  {
   "cell_type": "code",
   "execution_count": 45,
   "id": "f5f90a91-f338-4d0b-a158-aa1e683360ea",
   "metadata": {},
   "outputs": [
    {
     "data": {
      "text/plain": [
       "1"
      ]
     },
     "execution_count": 45,
     "metadata": {},
     "output_type": "execute_result"
    }
   ],
   "source": [
    "num_1"
   ]
  },
  {
   "cell_type": "code",
   "execution_count": 46,
   "id": "4f82898e-9000-49ca-a8ee-5ba2888b2043",
   "metadata": {},
   "outputs": [
    {
     "data": {
      "text/plain": [
       "int"
      ]
     },
     "execution_count": 46,
     "metadata": {},
     "output_type": "execute_result"
    }
   ],
   "source": [
    "type(num_1)"
   ]
  },
  {
   "cell_type": "code",
   "execution_count": null,
   "id": "d13b8964-3e3e-45d4-955a-69d285355bb7",
   "metadata": {},
   "outputs": [],
   "source": [
    "addition = num_1 + num_2"
   ]
  },
  {
   "cell_type": "code",
   "execution_count": null,
   "id": "f1196faa",
   "metadata": {},
   "outputs": [],
   "source": [
    "addition"
   ]
  },
  {
   "cell_type": "code",
   "execution_count": 1,
   "id": "e41add76",
   "metadata": {},
   "outputs": [
    {
     "ename": "NameError",
     "evalue": "name 'addition' is not defined",
     "output_type": "error",
     "traceback": [
      "\u001b[1;31m---------------------------------------------------------------------------\u001b[0m",
      "\u001b[1;31mNameError\u001b[0m                                 Traceback (most recent call last)",
      "Cell \u001b[1;32mIn[1], line 1\u001b[0m\n\u001b[1;32m----> 1\u001b[0m \u001b[38;5;28mprint\u001b[39m(\u001b[38;5;124m\"\u001b[39m\u001b[38;5;124mThe sum of two values is: \u001b[39m\u001b[38;5;132;01m{}\u001b[39;00m\u001b[38;5;124m\"\u001b[39m\u001b[38;5;241m.\u001b[39mformat(addition))\n",
      "\u001b[1;31mNameError\u001b[0m: name 'addition' is not defined"
     ]
    }
   ],
   "source": [
    "print(\"The sum of two values is: {}\".format(addition))"
   ]
  },
  {
   "cell_type": "code",
   "execution_count": 2,
   "id": "17da51b5-9ce2-4978-a73f-e29fb540a545",
   "metadata": {},
   "outputs": [
    {
     "ename": "NameError",
     "evalue": "name 'num_1' is not defined",
     "output_type": "error",
     "traceback": [
      "\u001b[1;31m---------------------------------------------------------------------------\u001b[0m",
      "\u001b[1;31mNameError\u001b[0m                                 Traceback (most recent call last)",
      "Cell \u001b[1;32mIn[2], line 1\u001b[0m\n\u001b[1;32m----> 1\u001b[0m addition \u001b[38;5;241m=\u001b[39m num_1 \u001b[38;5;241m+\u001b[39m num_2\n",
      "\u001b[1;31mNameError\u001b[0m: name 'num_1' is not defined"
     ]
    }
   ],
   "source": [
    "addition = num_1 + num_2"
   ]
  },
  {
   "cell_type": "code",
   "execution_count": 3,
   "id": "554e5726-abf5-43f7-8c92-1652e203b95a",
   "metadata": {},
   "outputs": [
    {
     "name": "stdout",
     "output_type": "stream",
     "text": [
      "Enter the First Number:  3\n",
      "Enter the Second Number:  7\n"
     ]
    }
   ],
   "source": [
    "num_1 = int(input(\"Enter the First Number: \"))\n",
    "num_2 = int(input(\"Enter the Second Number: \"))"
   ]
  },
  {
   "cell_type": "code",
   "execution_count": 4,
   "id": "91bb0563-c9b4-44e8-b05c-d14dc88e2ada",
   "metadata": {},
   "outputs": [],
   "source": [
    "addition = num_1 + num_2"
   ]
  },
  {
   "cell_type": "code",
   "execution_count": 5,
   "id": "64151e2d-2899-4ed2-a440-271ef544e436",
   "metadata": {},
   "outputs": [
    {
     "name": "stdout",
     "output_type": "stream",
     "text": [
      "The sum of two values is: 10\n"
     ]
    }
   ],
   "source": [
    "print(\"The sum of two values is: {}\".format(addition))"
   ]
  },
  {
   "cell_type": "code",
   "execution_count": 6,
   "id": "8d3469ca-8419-4057-99f2-51a83566c6c0",
   "metadata": {},
   "outputs": [
    {
     "name": "stdout",
     "output_type": "stream",
     "text": [
      "The sum of two values is: 10\n"
     ]
    }
   ],
   "source": [
    "print(f\"The sum of two values is: {addition}\")"
   ]
  },
  {
   "cell_type": "code",
   "execution_count": 7,
   "id": "daf96981-7d90-48d4-a83d-a4a7d89e59e0",
   "metadata": {},
   "outputs": [
    {
     "name": "stdout",
     "output_type": "stream",
     "text": [
      "This is sum %s 10\n"
     ]
    }
   ],
   "source": [
    "print('This is sum %s', addition)"
   ]
  },
  {
   "cell_type": "code",
   "execution_count": 9,
   "id": "60690151-dbea-4d03-b0a1-013441be85d9",
   "metadata": {},
   "outputs": [
    {
     "name": "stdout",
     "output_type": "stream",
     "text": [
      "This is sum %d 10\n"
     ]
    }
   ],
   "source": [
    "print(f\"This is sum %d\", addition)"
   ]
  },
  {
   "cell_type": "code",
   "execution_count": 1,
   "id": "16bb0993-9037-40ca-a3eb-43933aa44736",
   "metadata": {},
   "outputs": [
    {
     "name": "stdout",
     "output_type": "stream",
     "text": [
      "What is the mass of the body:  90\n",
      "What is the acceleration of the body:  3.2\n"
     ]
    }
   ],
   "source": [
    "m = float(input('What is the mass of the body: '))\n",
    "a = float(input('What is the acceleration of the body: '))"
   ]
  },
  {
   "cell_type": "code",
   "execution_count": 2,
   "id": "41c4ffc1-ac83-4e78-802e-a09c11b33902",
   "metadata": {},
   "outputs": [
    {
     "name": "stdout",
     "output_type": "stream",
     "text": [
      "The force is 288.0\n"
     ]
    }
   ],
   "source": [
    "print(f\"The force is {m*a}\")"
   ]
  },
  {
   "cell_type": "code",
   "execution_count": 6,
   "id": "838b99d1-c14b-4769-97ed-f5b049e2cacf",
   "metadata": {},
   "outputs": [
    {
     "name": "stdout",
     "output_type": "stream",
     "text": [
      "First Number:  23\n",
      "Second Number:  12\n",
      "Third Number:  9\n"
     ]
    },
    {
     "name": "stdout",
     "output_type": "stream",
     "text": [
      "---------ANSWERS------------------\n",
      "Subtraction: 2.0\n",
      "Multiplication: 2484.0\n",
      "Division: 0.213\n"
     ]
    }
   ],
   "source": [
    "a = float(input('First Number: '))\n",
    "b = float(input('Second Number: '))\n",
    "c = float(input('Third Number: '))\n",
    "\n",
    "print('---------ANSWERS------------------')\n",
    "print(f\"Subtraction: { a - b - c}\")\n",
    "print(f\"Multiplication: { a * b * c}\")\n",
    "print(f\"Division: { round(((a / b) / c), 4)}\")"
   ]
  }
 ],
 "metadata": {
  "kernelspec": {
   "display_name": "Python 3 (ipykernel)",
   "language": "python",
   "name": "python3"
  },
  "language_info": {
   "codemirror_mode": {
    "name": "ipython",
    "version": 3
   },
   "file_extension": ".py",
   "mimetype": "text/x-python",
   "name": "python",
   "nbconvert_exporter": "python",
   "pygments_lexer": "ipython3",
   "version": "3.12.3"
  }
 },
 "nbformat": 4,
 "nbformat_minor": 5
}

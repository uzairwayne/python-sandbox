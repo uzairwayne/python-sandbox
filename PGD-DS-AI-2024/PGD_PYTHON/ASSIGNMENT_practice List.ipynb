{
 "cells": [
  {
   "cell_type": "markdown",
   "metadata": {},
   "source": [
    "# practice List\n",
    "# Exercises: Level 1The following is a list of 10 students ages:\n",
    "  ## ages = [19, 22, 19, 24, 20, 25, 26, 24, 25, 24]\n",
    "  ## Sort the list and find the min and max age\n",
    "  ## Add the min age and the max age again to the list\n",
    "  ## Find the median age (one middle item or two middle items divided by two)\n",
    "  ## Find the average age (sum of all items divided by their number )\n",
    "  ## Find the range of the ages (max minus min)\n",
    "  ## Compare the value of (min - average) and (max - average), use  method\n",
    "## Find the middle country(ies) in the countries list\n",
    "  ## Divide the countries list into two equal lists if it is even if not one more country for the first half.['China', 'Russia', 'USA', 'Finland', 'Sweden', 'Norway', 'Denmark'].\n",
    "  ## Unpack the first three countries and the rest as scandic countries."
   ]
  },
  {
   "cell_type": "code",
   "execution_count": 1,
   "metadata": {},
   "outputs": [],
   "source": [
    "ages = [19, 22, 19, 24, 20, 25, 26, 24, 25, 24]"
   ]
  },
  {
   "cell_type": "code",
   "execution_count": 2,
   "metadata": {},
   "outputs": [],
   "source": [
    "ages.sort()"
   ]
  },
  {
   "cell_type": "code",
   "execution_count": 4,
   "metadata": {},
   "outputs": [
    {
     "name": "stdout",
     "output_type": "stream",
     "text": [
      "min 19\n"
     ]
    }
   ],
   "source": [
    "print('min', ages[0])"
   ]
  },
  {
   "cell_type": "code",
   "execution_count": 5,
   "metadata": {},
   "outputs": [
    {
     "name": "stdout",
     "output_type": "stream",
     "text": [
      "max 26\n"
     ]
    }
   ],
   "source": [
    "print('max', ages[len(ages) - 1])"
   ]
  },
  {
   "cell_type": "code",
   "execution_count": 6,
   "metadata": {},
   "outputs": [],
   "source": [
    "ages.extend([ages[0], ages[len(ages) - 1]])"
   ]
  },
  {
   "cell_type": "code",
   "execution_count": 7,
   "metadata": {},
   "outputs": [
    {
     "data": {
      "text/plain": [
       "[19, 19, 20, 22, 24, 24, 24, 25, 25, 26, 19, 26]"
      ]
     },
     "execution_count": 7,
     "metadata": {},
     "output_type": "execute_result"
    }
   ],
   "source": [
    "ages"
   ]
  },
  {
   "cell_type": "code",
   "execution_count": 14,
   "metadata": {},
   "outputs": [
    {
     "name": "stdout",
     "output_type": "stream",
     "text": [
      "median 24.0\n"
     ]
    }
   ],
   "source": [
    "if len(ages) > 0 and len(ages) % 2 == 0:\n",
    "  mid2 = len(ages) // 2\n",
    "  mid1 = mid2 - 1\n",
    "  print('median', (ages[mid1] + ages[mid2]) / 2)\n",
    "elif len(ages) > 0:\n",
    "  mid = len(ages) // 2\n",
    "  print('median', ages[mid] / 2)"
   ]
  },
  {
   "cell_type": "code",
   "execution_count": 17,
   "metadata": {},
   "outputs": [
    {
     "name": "stdout",
     "output_type": "stream",
     "text": [
      "average 22.75\n"
     ]
    }
   ],
   "source": [
    "average = sum(ages) / len(ages)\n",
    "print('average', average)"
   ]
  },
  {
   "cell_type": "code",
   "execution_count": 16,
   "metadata": {},
   "outputs": [
    {
     "name": "stdout",
     "output_type": "stream",
     "text": [
      "range 7\n"
     ]
    }
   ],
   "source": [
    "max = ages[len(ages) - 1]\n",
    "min = ages[len(ages) - 2]\n",
    "\n",
    "print('range', max - min)"
   ]
  },
  {
   "cell_type": "code",
   "execution_count": 19,
   "metadata": {},
   "outputs": [
    {
     "name": "stdout",
     "output_type": "stream",
     "text": [
      "-3.75\n",
      "3.25\n"
     ]
    }
   ],
   "source": [
    "print(min - average)\n",
    "print(max - average)"
   ]
  },
  {
   "cell_type": "code",
   "execution_count": 20,
   "metadata": {},
   "outputs": [],
   "source": [
    "countries = ['China', 'Russia', 'USA', 'Finland', 'Sweden', 'Norway', 'Denmark']"
   ]
  },
  {
   "cell_type": "code",
   "execution_count": 23,
   "metadata": {},
   "outputs": [],
   "source": [
    "mid = len(countries) // 2\n",
    "\n",
    "first_half_countries = countries[:(mid + 1)]\n",
    "second_half_countries = countries[(mid + 1):]"
   ]
  },
  {
   "cell_type": "code",
   "execution_count": 28,
   "metadata": {},
   "outputs": [],
   "source": [
    "first_three_countries = countries[:3]\n",
    "scandic_countries = countries[3:]"
   ]
  }
 ],
 "metadata": {
  "kernelspec": {
   "display_name": "Python 3",
   "language": "python",
   "name": "python3"
  },
  "language_info": {
   "codemirror_mode": {
    "name": "ipython",
    "version": 3
   },
   "file_extension": ".py",
   "mimetype": "text/x-python",
   "name": "python",
   "nbconvert_exporter": "python",
   "pygments_lexer": "ipython3",
   "version": "3.12.3"
  }
 },
 "nbformat": 4,
 "nbformat_minor": 2
}

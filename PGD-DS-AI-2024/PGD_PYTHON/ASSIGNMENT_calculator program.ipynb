{
 "cells": [
  {
   "cell_type": "markdown",
   "metadata": {},
   "source": [
    "# calculator program\n",
    "## create a program which takes two operands and one operator from user and your calculator will be able perform these operation \n",
    "  ## Addition\n",
    "  ## subtraction\n",
    "  ## Multiplication\n",
    "  ## Division\n",
    "  ## square root of a number \n",
    "  ## power of a number"
   ]
  },
  {
   "cell_type": "code",
   "execution_count": 6,
   "metadata": {},
   "outputs": [
    {
     "name": "stdout",
     "output_type": "stream",
     "text": [
      "Simple Calculator\n",
      "Operations:\n",
      "1. Addition (+)\n",
      "2. Subtraction (-)\n",
      "3. Multiplication (*)\n",
      "4. Division (/)\n",
      "5. Square Root (sqrt)\n",
      "6. Power (^)\n",
      "Error: Please enter a valid number\n",
      "3.0 - 4.0 = -1.0\n",
      "\n",
      "Invalid choice. Please try again.\n",
      "\n"
     ]
    }
   ],
   "source": [
    "import math\n",
    "\n",
    "def calculator():\n",
    "    print(\"Simple Calculator\")\n",
    "    print(\"Operations:\")\n",
    "    print(\"1. Addition (+)\")\n",
    "    print(\"2. Subtraction (-)\")\n",
    "    print(\"3. Multiplication (*)\")\n",
    "    print(\"4. Division (/)\")\n",
    "    print(\"5. Square Root (sqrt)\")\n",
    "    print(\"6. Power (^)\")\n",
    "\n",
    "    while True:\n",
    "      choice = input(\"Enter operation number (1-6) or 'q' to quit: \")\n",
    "      if choice == 'q':\n",
    "          break\n",
    "      try:\n",
    "          if choice in ['1', '2', '3', '4']:\n",
    "              num1 = float(input(\"Enter first number: \"))\n",
    "              num2 = float(input(\"Enter second number: \"))\n",
    "              \n",
    "              if choice == '1':\n",
    "                  result = num1 + num2\n",
    "                  print(f\"{num1} + {num2} = {result}\")\n",
    "              elif choice == '2':\n",
    "                  result = num1 - num2\n",
    "                  print(f\"{num1} - {num2} = {result}\")\n",
    "              elif choice == '3':\n",
    "                  result = num1 * num2\n",
    "                  print(f\"{num1} * {num2} = {result}\")\n",
    "              elif choice == '4':\n",
    "                  if num2 != 0:\n",
    "                      result = num1 / num2\n",
    "                      print(f\"{num1} / {num2} = {result}\")\n",
    "                  else:\n",
    "                      print(\"Error: Division by zero!\")\n",
    "          \n",
    "          elif choice == '5':\n",
    "              num = float(input(\"Enter a number: \"))\n",
    "              if num >= 0:\n",
    "                  result = math.sqrt(num)\n",
    "                  print(f\"Square root of {num} = {result}\")\n",
    "              else:\n",
    "                  print(\"Error: Cannot calculate square root of a negative number!\")\n",
    "          \n",
    "          elif choice == '6':\n",
    "              base = float(input(\"Enter the base: \"))\n",
    "              exponent = float(input(\"Enter the exponent: \"))\n",
    "              result = math.pow(base, exponent)\n",
    "              print(f\"{base} ^ {exponent} = {result}\")\n",
    "          \n",
    "          else:\n",
    "              print(\"Invalid choice. Please try again.\")\n",
    "\n",
    "      except:\n",
    "        print('Error: Please enter a valid number')\n",
    "      print()  # Print a blank line for readability\n",
    "\n",
    "calculator()"
   ]
  }
 ],
 "metadata": {
  "kernelspec": {
   "display_name": "Python 3",
   "language": "python",
   "name": "python3"
  },
  "language_info": {
   "codemirror_mode": {
    "name": "ipython",
    "version": 3
   },
   "file_extension": ".py",
   "mimetype": "text/x-python",
   "name": "python",
   "nbconvert_exporter": "python",
   "pygments_lexer": "ipython3",
   "version": "3.12.3"
  }
 },
 "nbformat": 4,
 "nbformat_minor": 2
}

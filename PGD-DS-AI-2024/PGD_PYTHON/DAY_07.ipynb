{
 "cells": [
  {
   "cell_type": "code",
   "execution_count": 1,
   "metadata": {},
   "outputs": [
    {
     "name": "stdout",
     "output_type": "stream",
     "text": [
      "['apple', 'banana', 'cherry', 'kiwi', 'mango']\n",
      "['apple', 'banana', 'mango']\n"
     ]
    }
   ],
   "source": [
    "fruits = [\"apple\", \"banana\", \"cherry\", \"kiwi\", \"mango\"]\n",
    "newList = []\n",
    "\n",
    "for elements in fruits:\n",
    "  if \"a\" in elements:\n",
    "    newList.append(elements)\n",
    "\n",
    "print(fruits)\n",
    "print(newList)"
   ]
  },
  {
   "cell_type": "code",
   "execution_count": 2,
   "metadata": {},
   "outputs": [
    {
     "name": "stdout",
     "output_type": "stream",
     "text": [
      "['apple', 'banana', 'cherry', 'kiwi', 'mango']\n"
     ]
    }
   ],
   "source": [
    "fruits = [\"apple\", \"banana\", \"cherry\", \"kiwi\", \"mango\"]\n",
    "newList = [x for x in fruits]\n",
    "\n",
    "print(newList)"
   ]
  },
  {
   "cell_type": "code",
   "execution_count": 3,
   "metadata": {},
   "outputs": [
    {
     "name": "stdout",
     "output_type": "stream",
     "text": [
      "['banana', 'cherry', 'kiwi', 'mango']\n"
     ]
    }
   ],
   "source": [
    "fruits = [\"apple\", \"banana\", \"cherry\", \"kiwi\", \"mango\"]\n",
    "newList = [x for x in fruits if x != \"apple\"]\n",
    "\n",
    "print(newList)"
   ]
  },
  {
   "cell_type": "code",
   "execution_count": 4,
   "metadata": {},
   "outputs": [
    {
     "name": "stdout",
     "output_type": "stream",
     "text": [
      "['apple', 'banana', 'mango']\n"
     ]
    }
   ],
   "source": [
    "fruits = [\"apple\", \"banana\", \"cherry\", \"kiwi\", \"mango\"]\n",
    "newList = [x for x in fruits if \"a\" in x]\n",
    "\n",
    "print(newList)"
   ]
  },
  {
   "cell_type": "code",
   "execution_count": 6,
   "metadata": {},
   "outputs": [
    {
     "data": {
      "text/plain": [
       "False"
      ]
     },
     "execution_count": 6,
     "metadata": {},
     "output_type": "execute_result"
    }
   ],
   "source": [
    "name1=\"Ahmed\"\n",
    "name2=\"Ahmed\"\n",
    "\n",
    "name1 > name2"
   ]
  },
  {
   "cell_type": "code",
   "execution_count": 7,
   "metadata": {},
   "outputs": [
    {
     "data": {
      "text/plain": [
       "True"
      ]
     },
     "execution_count": 7,
     "metadata": {},
     "output_type": "execute_result"
    }
   ],
   "source": [
    "name1=\"Ahmed\"\n",
    "name2=\"Ahmed\"\n",
    "\n",
    "name1 >= name2"
   ]
  },
  {
   "cell_type": "code",
   "execution_count": 8,
   "metadata": {},
   "outputs": [
    {
     "data": {
      "text/plain": [
       "True"
      ]
     },
     "execution_count": 8,
     "metadata": {},
     "output_type": "execute_result"
    }
   ],
   "source": [
    "name1=\"Ahmed1\"\n",
    "name2=\"Ahmed\"\n",
    "\n",
    "name1 > name2"
   ]
  },
  {
   "cell_type": "code",
   "execution_count": 9,
   "metadata": {},
   "outputs": [
    {
     "name": "stdout",
     "output_type": "stream",
     "text": [
      "['MS Data Science', 'MS AI', 'BS Software Engineering']\n"
     ]
    }
   ],
   "source": [
    "courses = [\"MS Data Science\", \"MS AI\", \"BS Software Engineering\", \"MPhil Chemistry\"]\n",
    "newList = [x for x in courses if \"BS\" in x or \"MS\" in x]\n",
    "\n",
    "print(newList)"
   ]
  },
  {
   "cell_type": "code",
   "execution_count": 13,
   "metadata": {},
   "outputs": [
    {
     "name": "stdout",
     "output_type": "stream",
     "text": [
      "['MS Data Science', 'MS AI', 'BS Software Engineering', 'MPhil Chemistry']\n"
     ]
    }
   ],
   "source": [
    "courses = [\"MS Data Science\", \"MS AI\", \"BS Software Engineering\", \"MPhil Chemistry\"]\n",
    "newList = [x for x in courses if \"BS\" in x or \"MS\" in x or \"MPhil\" in x]\n",
    "\n",
    "print(newList)"
   ]
  },
  {
   "cell_type": "code",
   "execution_count": 14,
   "metadata": {},
   "outputs": [
    {
     "name": "stdout",
     "output_type": "stream",
     "text": [
      "[0, 1, 2, 3, 4, 5, 6, 7, 8, 9]\n"
     ]
    }
   ],
   "source": [
    "newList = [x for x in range(10)]\n",
    "\n",
    "print(newList)"
   ]
  },
  {
   "cell_type": "code",
   "execution_count": 20,
   "metadata": {},
   "outputs": [
    {
     "name": "stdout",
     "output_type": "stream",
     "text": [
      "['MS Data Science', 'MS AI', 'BS Software Engineering']\n",
      "['MS Data Science', 'MS AI']\n",
      "['MS Data Science', 'MS AI', 'BS Software Engineering']\n",
      "['MS Data Science', 'BS Software Engineering']\n"
     ]
    }
   ],
   "source": [
    "courses = [\"MS Data Science\", \"MS AI\", \"BS Software Engineering\", \"MPhil Chemistry\"]\n",
    "newList = [x for x in courses if \"BS\" in x or \"MS\" in x]\n",
    "\n",
    "print(newList)\n",
    "el = newList.pop()\n",
    "print(newList)\n",
    "newList.append(el)\n",
    "print(newList)\n",
    "newList.pop(1)\n",
    "print(newList)"
   ]
  },
  {
   "cell_type": "code",
   "execution_count": 23,
   "metadata": {},
   "outputs": [
    {
     "name": "stdout",
     "output_type": "stream",
     "text": [
      "['kiwi', 'pineapple', 'cherry', 'apple', 'banana']\n"
     ]
    }
   ],
   "source": [
    "this_list = ['banana', 'apple', 'cherry', 'pineapple', 'kiwi']\n",
    "\n",
    "\n",
    "# Micheal snap\n",
    "this_list.reverse()\n",
    "\n",
    "print(this_list)"
   ]
  },
  {
   "cell_type": "code",
   "execution_count": 26,
   "metadata": {},
   "outputs": [
    {
     "name": "stdout",
     "output_type": "stream",
     "text": [
      "['a', 'b', 'c']\n",
      "['a', 'b', 'c']\n",
      "['a', 'b', 'c', 'd']\n"
     ]
    }
   ],
   "source": [
    "list_a = ['a', 'b', 'c']\n",
    "\n",
    "print(list_a)\n",
    "\n",
    "list_b = list_a.copy()\n",
    "\n",
    "list_a.append('d')\n",
    "\n",
    "print(list_b)\n",
    "print(list_a)"
   ]
  },
  {
   "cell_type": "code",
   "execution_count": 31,
   "metadata": {},
   "outputs": [
    {
     "name": "stdout",
     "output_type": "stream",
     "text": [
      "{'name': 'Uzair Ahmed', 'age': 28, 'profession': 'Software Engineer', 'gender': 'male'}\n",
      "4\n"
     ]
    }
   ],
   "source": [
    "myInfo = {\"name\": \"Uzair Ahmed\", \"age\": 28, \"profession\": \"Software Engineer\", \"gender\": \"male\"}\n",
    "print(myInfo)\n",
    "print(len(myInfo))"
   ]
  },
  {
   "cell_type": "code",
   "execution_count": null,
   "metadata": {},
   "outputs": [],
   "source": []
  }
 ],
 "metadata": {
  "kernelspec": {
   "display_name": "Python 3",
   "language": "python",
   "name": "python3"
  },
  "language_info": {
   "codemirror_mode": {
    "name": "ipython",
    "version": 3
   },
   "file_extension": ".py",
   "mimetype": "text/x-python",
   "name": "python",
   "nbconvert_exporter": "python",
   "pygments_lexer": "ipython3",
   "version": "3.12.3"
  }
 },
 "nbformat": 4,
 "nbformat_minor": 2
}

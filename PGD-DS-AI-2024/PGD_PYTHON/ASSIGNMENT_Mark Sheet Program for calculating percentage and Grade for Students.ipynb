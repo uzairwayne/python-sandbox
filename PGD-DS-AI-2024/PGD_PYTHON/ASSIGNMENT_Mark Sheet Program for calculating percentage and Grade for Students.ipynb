{
 "cells": [
  {
   "cell_type": "markdown",
   "metadata": {},
   "source": [
    "# Mark Sheet Program for calculating percentage and Grade for Students\n",
    "  ## Enter at least 6 subject marks \n",
    "  ## Total marks =600\n",
    "  ## Calculate obtained marks and percentage of a student \n",
    "  ## Use the following grading scale:\n",
    "    ## A: 90-100\n",
    "    ## B: 80-89\n",
    "    ## C: 70-79\n",
    "    ## D: 60-69\n",
    "    ## F: Below 60"
   ]
  },
  {
   "cell_type": "code",
   "execution_count": 5,
   "metadata": {},
   "outputs": [
    {
     "name": "stdout",
     "output_type": "stream",
     "text": [
      "Grade F\n",
      "Percentage 56.11%\n",
      "Total Marks 600\n",
      "Obtained Marks 336.67\n",
      "Subject Marks [33.0, 55.0, 60.0, 73.67, 35.0, 80.0]\n"
     ]
    }
   ],
   "source": [
    "subject_marks = []\n",
    "total_subjects = 6\n",
    "total_marks = 600\n",
    "per_subject_total_marks = total_marks // total_subjects\n",
    "\n",
    "total_obtained_marks = 0\n",
    "\n",
    "subject_itr = 1\n",
    "\n",
    "while (subject_itr < 7):\n",
    "  try:\n",
    "    subject_itr_suffix = 'th'\n",
    "    if subject_itr == 1:\n",
    "      subject_itr_suffix = 'st'\n",
    "    elif subject_itr == 2:\n",
    "      subject_itr_suffix = 'nd'\n",
    "    elif subject_itr == 3:\n",
    "      subject_itr_suffix = 'rd'\n",
    "    subject_mark = float(input(f'Enter {subject_itr}{subject_itr_suffix} subject marks'))\n",
    "\n",
    "    if (subject_mark > per_subject_total_marks):\n",
    "      print(f'{subject_itr}{subject_itr_suffix} subject marks cannot exceed {per_subject_total_marks}')\n",
    "      continue\n",
    "\n",
    "    subject_marks.append(subject_mark)\n",
    "    total_obtained_marks += subject_mark\n",
    "    subject_itr += 1\n",
    "  except:\n",
    "    print('Error: Please enter a valid number')\n",
    "\n",
    "percentage = (total_obtained_marks / total_marks) * 100\n",
    "grade = 'F'\n",
    "\n",
    "if percentage >= 90:\n",
    " grade = 'A'\n",
    "elif percentage >= 80:\n",
    " grade = 'B'\n",
    "elif percentage >= 70:\n",
    " grade = 'C'\n",
    "elif percentage >= 60:\n",
    " grade = 'D'\n",
    "\n",
    "print('Grade', grade)\n",
    "print('Percentage {:.2f}%'.format(percentage))\n",
    "print('Total Marks', total_marks)\n",
    "print('Obtained Marks', total_obtained_marks)\n",
    "print('Subject Marks', subject_marks)"
   ]
  }
 ],
 "metadata": {
  "kernelspec": {
   "display_name": "Python 3",
   "language": "python",
   "name": "python3"
  },
  "language_info": {
   "codemirror_mode": {
    "name": "ipython",
    "version": 3
   },
   "file_extension": ".py",
   "mimetype": "text/x-python",
   "name": "python",
   "nbconvert_exporter": "python",
   "pygments_lexer": "ipython3",
   "version": "3.12.3"
  }
 },
 "nbformat": 4,
 "nbformat_minor": 2
}

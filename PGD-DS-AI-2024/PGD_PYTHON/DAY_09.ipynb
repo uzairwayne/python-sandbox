{
 "cells": [
  {
   "cell_type": "code",
   "execution_count": 2,
   "metadata": {},
   "outputs": [],
   "source": [
    "def function_name(parameter):\n",
    "  \"\"\"doc string\"\"\"\n",
    "  #expression\n",
    "  #statement(s)"
   ]
  },
  {
   "cell_type": "code",
   "execution_count": 3,
   "metadata": {},
   "outputs": [
    {
     "name": "stdout",
     "output_type": "stream",
     "text": [
      "4\n"
     ]
    }
   ],
   "source": [
    "def square(): # function to find square of a number\n",
    "  \"\"\"this function is used for only square\"\"\" # \"\"\"doc string\"\"\"\n",
    "  x = 2**2 # expression\n",
    "  print(x) # statement(s)\n",
    "\n",
    "square()"
   ]
  },
  {
   "cell_type": "code",
   "execution_count": 4,
   "metadata": {},
   "outputs": [
    {
     "data": {
      "text/plain": [
       "8"
      ]
     },
     "execution_count": 4,
     "metadata": {},
     "output_type": "execute_result"
    }
   ],
   "source": [
    "def cube(): # function to find cube of a number\n",
    "  \"\"\"this function is used for cube square\"\"\" # \"\"\"doc string\"\"\"\n",
    "  x = 2**3 # expression\n",
    "  return x # statement(s)\n",
    "\n",
    "cube()"
   ]
  },
  {
   "cell_type": "code",
   "execution_count": 8,
   "metadata": {},
   "outputs": [
    {
     "data": {
      "text/plain": [
       "343"
      ]
     },
     "execution_count": 8,
     "metadata": {},
     "output_type": "execute_result"
    }
   ],
   "source": [
    "num = int(input(\"Write a number: \"))\n",
    "def cube(): # function to find cube of a number\n",
    "  \"\"\"this function is used for cube square\"\"\" # \"\"\"doc string\"\"\"\n",
    "  x = num**3 # expression\n",
    "  return x # statement(s)\n",
    "\n",
    "cube()"
   ]
  },
  {
   "cell_type": "code",
   "execution_count": 9,
   "metadata": {},
   "outputs": [
    {
     "name": "stdout",
     "output_type": "stream",
     "text": [
      "First Name Asad\n"
     ]
    }
   ],
   "source": [
    "def myFunc(fname): # function with one parameter\n",
    "  print(\"First Name \" + fname)\n",
    "\n",
    "myFunc(\"Asad\") # function with one argument"
   ]
  },
  {
   "cell_type": "code",
   "execution_count": 12,
   "metadata": {},
   "outputs": [
    {
     "name": "stdout",
     "output_type": "stream",
     "text": [
      "Full Name Uzair Ahmed \n"
     ]
    }
   ],
   "source": [
    "def myFunc(fname , lname): # function with one parameter\n",
    "  print(\"Full Name \" + fname + \" \" + lname)\n",
    "\n",
    "fname = input(\"Enter first name: \")\n",
    "lname = input(\"Enter last name: \")\n",
    "myFunc(fname, lname) # function with one argument"
   ]
  },
  {
   "cell_type": "code",
   "execution_count": null,
   "metadata": {},
   "outputs": [],
   "source": []
  }
 ],
 "metadata": {
  "kernelspec": {
   "display_name": "Python 3",
   "language": "python",
   "name": "python3"
  },
  "language_info": {
   "codemirror_mode": {
    "name": "ipython",
    "version": 3
   },
   "file_extension": ".py",
   "mimetype": "text/x-python",
   "name": "python",
   "nbconvert_exporter": "python",
   "pygments_lexer": "ipython3",
   "version": "3.12.3"
  }
 },
 "nbformat": 4,
 "nbformat_minor": 2
}

{
 "cells": [
  {
   "cell_type": "markdown",
   "metadata": {},
   "source": [
    "# Practice for Tuple\n",
    "    ## Exercises: Level 1\n",
    "      Create an empty tuple\n",
    "      Create a tuple containing names of your sisters and your brothers (imaginary siblings are fine)\n",
    "      Join brothers and sisters tuples and assign it to siblings\n",
    "      How many siblings do you have?\n",
    "      Modify the siblings tuple and add the name of your father and mother and assign it to family_members\n",
    "    ## Exercises: Level 2\n",
    "      Unpack siblings and parents from family_members\n",
    "      Create fruits, vegetables and animal products tuples. Join the three tuples and assign it to a variable called food_stuff_tp.\n",
    "      Change the about food_stuff_tp tuple to a food_stuff_lt list\n",
    "      Slice out the middle item or items from the food_stuff_tp tuple or food_stuff_lt list.\n",
    "      Slice out the first three items and the last three items from food_staff_lt list\n",
    "      Delete the food_staff_tp tuple completely\n",
    "      Check if an item exists in tuple:\n",
    "  ## Check if 'Estonia' is a nordic country\n",
    "  ## Check if 'Iceland' is a nordic country"
   ]
  },
  {
   "cell_type": "code",
   "execution_count": 1,
   "metadata": {},
   "outputs": [],
   "source": [
    "emptyTuple = ()"
   ]
  },
  {
   "cell_type": "code",
   "execution_count": 3,
   "metadata": {},
   "outputs": [],
   "source": [
    "names_of_sisters = ('Sofia', 'Estella')\n",
    "names_of_brothers = ('Adam', 'John', 'Billy')"
   ]
  },
  {
   "cell_type": "code",
   "execution_count": 4,
   "metadata": {},
   "outputs": [],
   "source": [
    "siblings = names_of_sisters + names_of_brothers"
   ]
  },
  {
   "cell_type": "code",
   "execution_count": 6,
   "metadata": {},
   "outputs": [
    {
     "data": {
      "text/plain": [
       "5"
      ]
     },
     "execution_count": 6,
     "metadata": {},
     "output_type": "execute_result"
    }
   ],
   "source": [
    "len(siblings)"
   ]
  },
  {
   "cell_type": "code",
   "execution_count": 7,
   "metadata": {},
   "outputs": [],
   "source": [
    "family = siblings + ('Jordan', 'Cacey')"
   ]
  },
  {
   "cell_type": "code",
   "execution_count": 16,
   "metadata": {},
   "outputs": [
    {
     "name": "stdout",
     "output_type": "stream",
     "text": [
      "siblings ('Sofia', 'Estella', 'Adam', 'John', 'Billy')\n",
      "parents ('Jordan', 'Cacey')\n"
     ]
    }
   ],
   "source": [
    "print(f'siblings {family[0:5]}')\n",
    "print(f'parents {family[5:]}')"
   ]
  },
  {
   "cell_type": "code",
   "execution_count": 18,
   "metadata": {},
   "outputs": [],
   "source": [
    "fruits = ('apple', 'berries', 'mangoes')\n",
    "vegetables = ('artichoke', 'aubergine', 'broccoli', 'cabbage')\n",
    "animal_products = ('meat', 'egg', 'dairy', 'fish')"
   ]
  },
  {
   "cell_type": "code",
   "execution_count": 19,
   "metadata": {},
   "outputs": [],
   "source": [
    "food_stuff_tp = fruits + vegetables + animal_products"
   ]
  },
  {
   "cell_type": "code",
   "execution_count": 31,
   "metadata": {},
   "outputs": [],
   "source": [
    "food_stuff_lt = list(food_stuff_tp)"
   ]
  },
  {
   "cell_type": "code",
   "execution_count": 36,
   "metadata": {},
   "outputs": [
    {
     "data": {
      "text/plain": [
       "['broccoli']"
      ]
     },
     "execution_count": 36,
     "metadata": {},
     "output_type": "execute_result"
    }
   ],
   "source": [
    "food_stuff_lt[len(food_stuff_lt) // 2: len(food_stuff_lt) // 2 + 1]"
   ]
  },
  {
   "cell_type": "code",
   "execution_count": 37,
   "metadata": {},
   "outputs": [
    {
     "data": {
      "text/plain": [
       "['apple', 'berries', 'mangoes']"
      ]
     },
     "execution_count": 37,
     "metadata": {},
     "output_type": "execute_result"
    }
   ],
   "source": [
    "food_stuff_lt[:3]"
   ]
  },
  {
   "cell_type": "code",
   "execution_count": 40,
   "metadata": {},
   "outputs": [
    {
     "data": {
      "text/plain": [
       "['egg', 'dairy', 'fish']"
      ]
     },
     "execution_count": 40,
     "metadata": {},
     "output_type": "execute_result"
    }
   ],
   "source": [
    "food_stuff_lt[-3:]"
   ]
  },
  {
   "cell_type": "code",
   "execution_count": 41,
   "metadata": {},
   "outputs": [],
   "source": [
    "del food_stuff_tp"
   ]
  },
  {
   "cell_type": "code",
   "execution_count": 43,
   "metadata": {},
   "outputs": [
    {
     "ename": "NameError",
     "evalue": "name 'food_stuff_tp' is not defined",
     "output_type": "error",
     "traceback": [
      "\u001b[0;31m---------------------------------------------------------------------------\u001b[0m",
      "\u001b[0;31mNameError\u001b[0m                                 Traceback (most recent call last)",
      "Cell \u001b[0;32mIn[43], line 1\u001b[0m\n\u001b[0;32m----> 1\u001b[0m food_stuff_tp\u001b[38;5;241m.\u001b[39mindex()\n",
      "\u001b[0;31mNameError\u001b[0m: name 'food_stuff_tp' is not defined"
     ]
    }
   ],
   "source": [
    "food_stuff_tp.index()"
   ]
  },
  {
   "cell_type": "code",
   "execution_count": 44,
   "metadata": {},
   "outputs": [],
   "source": [
    "nordic_countries = ('Estonia', 'Iceland')"
   ]
  },
  {
   "cell_type": "code",
   "execution_count": 46,
   "metadata": {},
   "outputs": [
    {
     "data": {
      "text/plain": [
       "True"
      ]
     },
     "execution_count": 46,
     "metadata": {},
     "output_type": "execute_result"
    }
   ],
   "source": [
    "'Estonia' in nordic_countries"
   ]
  },
  {
   "cell_type": "code",
   "execution_count": 47,
   "metadata": {},
   "outputs": [
    {
     "data": {
      "text/plain": [
       "True"
      ]
     },
     "execution_count": 47,
     "metadata": {},
     "output_type": "execute_result"
    }
   ],
   "source": [
    "'Iceland' in nordic_countries"
   ]
  }
 ],
 "metadata": {
  "kernelspec": {
   "display_name": "Python 3",
   "language": "python",
   "name": "python3"
  },
  "language_info": {
   "codemirror_mode": {
    "name": "ipython",
    "version": 3
   },
   "file_extension": ".py",
   "mimetype": "text/x-python",
   "name": "python",
   "nbconvert_exporter": "python",
   "pygments_lexer": "ipython3",
   "version": "3.12.3"
  }
 },
 "nbformat": 4,
 "nbformat_minor": 2
}

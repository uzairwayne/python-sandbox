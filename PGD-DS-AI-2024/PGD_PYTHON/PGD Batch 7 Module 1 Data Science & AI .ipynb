{
 "cells": [
  {
   "cell_type": "code",
   "execution_count": 1,
   "id": "8af2014b",
   "metadata": {},
   "outputs": [],
   "source": [
    "# Full Name:  Uzair Ahmed\n",
    "# Contact No: +92 3442491144\n",
    "# Program Name: PGS DS & AI"
   ]
  },
  {
   "cell_type": "markdown",
   "id": "dddb1d49",
   "metadata": {},
   "source": [
    "# Part 1: Attempt any 8 Question"
   ]
  },
  {
   "cell_type": "markdown",
   "id": "c75ab677",
   "metadata": {},
   "source": [
    "Question 1: \n",
    "Define two variables, `num1` and `num2`, with values 40 and 52 respectively.Write a Python expression to calculate the sum, difference, product, and quotient of these two variables."
   ]
  },
  {
   "cell_type": "code",
   "execution_count": 3,
   "id": "5c6ce5f3",
   "metadata": {},
   "outputs": [
    {
     "name": "stdout",
     "output_type": "stream",
     "text": [
      "sum:92\n",
      "difference:-12\n",
      "product:2080\n",
      "quotient:0.7692307692307693\n"
     ]
    }
   ],
   "source": [
    "num1 = 40\n",
    "num2 = 52\n",
    "\n",
    "sum = num1 + num2\n",
    "print(f'sum:{sum}')\n",
    "difference = num1 - num2\n",
    "print(f'difference:{difference}')\n",
    "product = num1 * num2\n",
    "print(f'product:{product}')\n",
    "quotient = num1 / num2\n",
    "print(f'quotient:{quotient}')"
   ]
  },
  {
   "cell_type": "markdown",
   "id": "8b493e32",
   "metadata": {},
   "source": [
    "Question 2: \n",
    "Write a Python script that checks if a number entered in a variable `num` by a user is positive, negative, or zero,or check if a user enter any invalid character and prints an appropriate message for each case."
   ]
  },
  {
   "cell_type": "markdown",
   "id": "17e2e808",
   "metadata": {},
   "source": [
    "Question 3:Write a Python script using a for loop to print all the even numbers between 1 and 20 (inclusive)."
   ]
  },
  {
   "cell_type": "code",
   "execution_count": 4,
   "id": "45231fc5",
   "metadata": {},
   "outputs": [
    {
     "name": "stdout",
     "output_type": "stream",
     "text": [
      "2\n",
      "4\n",
      "6\n",
      "8\n",
      "10\n",
      "12\n",
      "14\n",
      "16\n",
      "18\n",
      "20\n"
     ]
    }
   ],
   "source": [
    "for num in range(1, 21):\n",
    "  if num % 2 == 0:\n",
    "    print(num)"
   ]
  },
  {
   "cell_type": "markdown",
   "id": "5c6d13ad",
   "metadata": {},
   "source": [
    "Question 4:Create two string variables `first_name` and `last_name`. Write a Python script to concatenate these two strings with a space in between and print the full name"
   ]
  },
  {
   "cell_type": "code",
   "execution_count": 6,
   "id": "2466951a",
   "metadata": {},
   "outputs": [
    {
     "name": "stdout",
     "output_type": "stream",
     "text": [
      "Uzair Ahmed\n"
     ]
    }
   ],
   "source": [
    "first_name = 'Uzair'\n",
    "last_name = 'Ahmed'\n",
    "\n",
    "full_name = first_name + ' ' + last_name\n",
    "print(full_name)"
   ]
  },
  {
   "cell_type": "markdown",
   "id": "4014ba3f",
   "metadata": {},
   "source": [
    "Question 5: Write a Python script to calculate the area of a rectangle. The length and width of the rectangle should be stored in variables `length` and `width`."
   ]
  },
  {
   "cell_type": "code",
   "execution_count": 7,
   "id": "dc285826",
   "metadata": {},
   "outputs": [
    {
     "name": "stdout",
     "output_type": "stream",
     "text": [
      "Area of rectangle = 200\n"
     ]
    }
   ],
   "source": [
    "length = 10\n",
    "width = 20\n",
    "\n",
    "area = length * width\n",
    "print(f'Area of rectangle = {area}')"
   ]
  },
  {
   "cell_type": "markdown",
   "id": "571048cb",
   "metadata": {},
   "source": [
    "Question 6:Write a program to check if a string enter by a user is a palindrome or not."
   ]
  },
  {
   "cell_type": "code",
   "execution_count": 25,
   "id": "ecf3b0fa",
   "metadata": {},
   "outputs": [
    {
     "name": "stdout",
     "output_type": "stream",
     "text": [
      "Is String Palindrome? True\n"
     ]
    }
   ],
   "source": [
    "stringToCheckForPalindrome = 'abccba'\n",
    "\n",
    "listRange = list(reversed(range(0, len(stringToCheckForPalindrome))))\n",
    "reverseStr = ''\n",
    "\n",
    "for i in listRange:\n",
    "  reverseStr += stringToCheckForPalindrome[i]\n",
    "\n",
    "isPalindrome = stringToCheckForPalindrome == reverseStr\n",
    "print(f'Is String Palindrome? {isPalindrome}')"
   ]
  },
  {
   "cell_type": "markdown",
   "id": "9248bc20",
   "metadata": {},
   "source": [
    "Question 7: Write a program to check if a number enter by user is prime. "
   ]
  },
  {
   "cell_type": "code",
   "execution_count": 55,
   "id": "9e90e4ca",
   "metadata": {},
   "outputs": [
    {
     "name": "stdout",
     "output_type": "stream",
     "text": [
      "7919 is prime? True\n"
     ]
    }
   ],
   "source": [
    "number = int(input('Enter number:'))\n",
    "def isPrime():\n",
    "  if (number <= 1):\n",
    "    return False\n",
    "\n",
    "  for i in range(2, number):\n",
    "    if (number % i == 0):\n",
    "      return False\n",
    "\n",
    "  return True\n",
    "\n",
    "print(f'{number} is prime?', isPrime())"
   ]
  },
  {
   "cell_type": "markdown",
   "id": "e1e5801e",
   "metadata": {},
   "source": [
    "Question 8: Write a Python script that uses a for loop to iterate through numbers from 1 to 15. For each number, print \"Fizz\" if the number is divisible by 3, \"Buzz\" if it is divisible by 5, and \"FizzBuzz\" if it is divisible by both 3 and 5."
   ]
  },
  {
   "cell_type": "code",
   "execution_count": 27,
   "id": "6c28a796",
   "metadata": {},
   "outputs": [
    {
     "name": "stdout",
     "output_type": "stream",
     "text": [
      "3: Fizz\n",
      "5: Buzz\n",
      "6: Fizz\n",
      "9: Fizz\n",
      "10: Buzz\n",
      "12: Fizz\n",
      "15: FizzBuzz\n"
     ]
    }
   ],
   "source": [
    "for num in range(1, 16):\n",
    "  if num % 3 == 0 and num % 5 == 0:\n",
    "    print(f'{num}: FizzBuzz')\n",
    "  elif num % 3 == 0:\n",
    "    print(f'{num}: Fizz')\n",
    "  elif num % 5 == 0:\n",
    "    print(f'{num}: Buzz')"
   ]
  },
  {
   "cell_type": "markdown",
   "id": "7601671a",
   "metadata": {},
   "source": [
    "Question 9 : Write a Python script that asks the user for their name and age, stores them in variables, and then prints a message saying \"Hello [name], you are [age] years old.\""
   ]
  },
  {
   "cell_type": "code",
   "execution_count": 28,
   "id": "dbfd0136",
   "metadata": {},
   "outputs": [
    {
     "name": "stdout",
     "output_type": "stream",
     "text": [
      "Hello Uzair, you are 28 years old.\n"
     ]
    }
   ],
   "source": [
    "name = input(\"What is your name?\")\n",
    "age = int(input(\"What is your age?\"))\n",
    "\n",
    "print(f'Hello {name}, you are {age} years old.')"
   ]
  },
  {
   "cell_type": "markdown",
   "id": "41284e6f",
   "metadata": {},
   "source": [
    "# Part 2: Find error in a code and find the output "
   ]
  },
  {
   "cell_type": "code",
   "execution_count": 43,
   "id": "30970d1b",
   "metadata": {},
   "outputs": [],
   "source": [
    "student_names = ['Luis', 'Divya' 'Maria', 'Mimi']\n",
    "student_names.append('Arnold')"
   ]
  },
  {
   "cell_type": "code",
   "execution_count": 44,
   "id": "f711c2d8",
   "metadata": {},
   "outputs": [],
   "source": [
    "# find the sum of element in a list\n",
    "nums = (3, 8, -4, 22, 0)\n",
    "sum = 0\n",
    "for num in nums:\n",
    "  sum += num"
   ]
  },
  {
   "cell_type": "code",
   "execution_count": 54,
   "id": "85983334",
   "metadata": {},
   "outputs": [
    {
     "name": "stdout",
     "output_type": "stream",
     "text": [
      "Faraz is 21 years old.\n"
     ]
    }
   ],
   "source": [
    "ages = {\n",
    "'Ahmed': 21,\n",
    "'Faraz': 21,\n",
    "'Sarah': 41\n",
    "}\n",
    "print('Faraz is {age} years old.'.format(age = ages['Faraz']))"
   ]
  },
  {
   "cell_type": "code",
   "execution_count": 5,
   "id": "9ce3605b",
   "metadata": {},
   "outputs": [],
   "source": [
    "# Define Mutable and immutable data types with example.\n",
    "# Mutable data types are the one that can be changed overtime after intial assignation e.g. List\n",
    "# Immutable data types are the one that cannot be changed after initial assignation e.g Tuple\n",
    "# write a syntax of for loop\n",
    "\n",
    "# for variable in iterator:\n",
    "#   statement"
   ]
  }
 ],
 "metadata": {
  "kernelspec": {
   "display_name": "Python 3",
   "language": "python",
   "name": "python3"
  },
  "language_info": {
   "codemirror_mode": {
    "name": "ipython",
    "version": 3
   },
   "file_extension": ".py",
   "mimetype": "text/x-python",
   "name": "python",
   "nbconvert_exporter": "python",
   "pygments_lexer": "ipython3",
   "version": "3.12.3"
  }
 },
 "nbformat": 4,
 "nbformat_minor": 5
}

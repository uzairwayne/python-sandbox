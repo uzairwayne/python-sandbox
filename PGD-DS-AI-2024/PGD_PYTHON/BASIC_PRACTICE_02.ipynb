{
 "cells": [
  {
   "cell_type": "markdown",
   "metadata": {},
   "source": [
    "# Python questions focusing on for loops, lists, list functions, and operators"
   ]
  },
  {
   "cell_type": "code",
   "execution_count": 1,
   "metadata": {},
   "outputs": [
    {
     "name": "stdout",
     "output_type": "stream",
     "text": [
      "1\n",
      "2\n",
      "3\n",
      "4\n",
      "5\n",
      "6\n",
      "7\n",
      "8\n",
      "9\n",
      "10\n"
     ]
    }
   ],
   "source": [
    "# 1. Write a Python program to print the numbers from 1 to 10 using a for loop.\n",
    "\n",
    "for i in range(0, 10):\n",
    "  print(i + 1)"
   ]
  },
  {
   "cell_type": "code",
   "execution_count": 2,
   "metadata": {},
   "outputs": [
    {
     "name": "stdout",
     "output_type": "stream",
     "text": [
      "1\n",
      "2\n",
      "3\n",
      "4\n",
      "5\n"
     ]
    }
   ],
   "source": [
    "# 2. Create a list containing the numbers 1 to 5. Then, using a for loop, print each element of the list.\n",
    "\n",
    "numbers = [1, 2, 3, 4, 5]\n",
    "\n",
    "for number in numbers:\n",
    "  print(number)"
   ]
  },
  {
   "cell_type": "code",
   "execution_count": 4,
   "metadata": {},
   "outputs": [
    {
     "name": "stdout",
     "output_type": "stream",
     "text": [
      "Sum = 15\n"
     ]
    }
   ],
   "source": [
    "# 3. Write a program that takes a list of numbers and returns the sum of all the numbers in the list.\n",
    "\n",
    "def sumTheList(numbers):\n",
    "  total = 0\n",
    "  for number in numbers:\n",
    "    total += number\n",
    "  return total\n",
    "\n",
    "print(f'Sum = {sumTheList([1, 2, 3, 4, 5])}')"
   ]
  },
  {
   "cell_type": "code",
   "execution_count": 5,
   "metadata": {},
   "outputs": [
    {
     "name": "stdout",
     "output_type": "stream",
     "text": [
      "concatenated result = string1string2string3\n"
     ]
    }
   ],
   "source": [
    "# 4. Given a list of strings, write a program to concatenate all the strings into one.\n",
    "\n",
    "result = \"\"\n",
    "strings = [\"string1\", \"string2\", \"string3\"]\n",
    "for string in strings:\n",
    "  result += string\n",
    "\n",
    "print(f'concatenated result = {result}')"
   ]
  },
  {
   "cell_type": "code",
   "execution_count": 6,
   "metadata": {},
   "outputs": [
    {
     "name": "stdout",
     "output_type": "stream",
     "text": [
      "Largest = 1000\n"
     ]
    }
   ],
   "source": [
    "# 5. Write a program that takes a list of numbers and returns the largest number in the list.\n",
    "\n",
    "array = [1, 2, 3, 4, 5, 80, 1, 11, 21, 1000, 22, 141, 111]\n",
    "largest = array[0]\n",
    "for i in array:\n",
    "  if i > largest:\n",
    "    largest = i\n",
    "print(f'Largest = {largest}')"
   ]
  },
  {
   "cell_type": "code",
   "execution_count": 7,
   "metadata": {},
   "outputs": [
    {
     "name": "stdout",
     "output_type": "stream",
     "text": [
      "1\n",
      "4\n",
      "9\n",
      "16\n",
      "25\n",
      "36\n",
      "49\n",
      "64\n",
      "81\n",
      "100\n"
     ]
    }
   ],
   "source": [
    "# 6. Create a list containing the numbers 1 to 10. Using a for loop, square each number in the list and print the result.\n",
    "\n",
    "numbers = [1, 2, 3, 4, 5, 6, 7, 8, 9, 10]\n",
    "\n",
    "for number in numbers:\n",
    "  print(number ** 2)"
   ]
  },
  {
   "cell_type": "code",
   "execution_count": 8,
   "metadata": {},
   "outputs": [
    {
     "name": "stdout",
     "output_type": "stream",
     "text": [
      "evenNumbers = [2, 4, 6, 8, 10]\n"
     ]
    }
   ],
   "source": [
    "# 7. Write a program that takes a list of numbers and returns a new list containing only the even numbers from the original list.\n",
    "\n",
    "numbers = [1, 2, 3, 4, 5, 6, 7, 8, 9, 10]\n",
    "evenNumbers = []\n",
    "\n",
    "for number in numbers:\n",
    "  if number & 1 == 0:\n",
    "    evenNumbers.append(number)\n",
    "\n",
    "print(f'evenNumbers = {evenNumbers}')"
   ]
  },
  {
   "cell_type": "code",
   "execution_count": 9,
   "metadata": {},
   "outputs": [
    {
     "name": "stdout",
     "output_type": "stream",
     "text": [
      "combinedList = [2, 4, 6, 8, 10, 12, 14, 16, 18, 20]\n"
     ]
    }
   ],
   "source": [
    "# 8. Given two lists of numbers, write a program to combine the lists element-wise (i.e., element-wise addition).\n",
    "\n",
    "list1 = [1, 2, 3, 4, 5, 6, 7, 8, 9, 10]\n",
    "list2 = [1, 2, 3, 4, 5, 6, 7, 8, 9, 10]\n",
    "combinedList = []\n",
    "\n",
    "for i in range(len(list1)):\n",
    "    combinedList.append(list1[i] + list2[i])\n",
    "\n",
    "print(f'combinedList = {combinedList}')"
   ]
  },
  {
   "cell_type": "code",
   "execution_count": 13,
   "metadata": {},
   "outputs": [
    {
     "name": "stdout",
     "output_type": "stream",
     "text": [
      "length of strings = [7, 13, 20]\n"
     ]
    }
   ],
   "source": [
    "# 9. Write a program that takes a list of strings and returns a new list containing the lengths of each string.\n",
    "\n",
    "strings = ['string1', 'anotherstring', 'anotheranotherstring']\n",
    "lenOfStrings = []\n",
    "\n",
    "for estring in strings:\n",
    "  lenOfStrings.append(len(estring))\n",
    "\n",
    "print(f'length of strings = {lenOfStrings}')"
   ]
  },
  {
   "cell_type": "code",
   "execution_count": 14,
   "metadata": {},
   "outputs": [
    {
     "name": "stdout",
     "output_type": "stream",
     "text": [
      "2\n",
      "4\n",
      "6\n",
      "8\n",
      "10\n"
     ]
    }
   ],
   "source": [
    "# 10. Create a list of numbers from 1 to 10. Using list slicing and a for loop, print every second element of the list.\n",
    "\n",
    "numbers = list(range(1, 11))\n",
    "\n",
    "for i in range(1, len(numbers), 2):\n",
    "  print(numbers[i])"
   ]
  }
 ],
 "metadata": {
  "kernelspec": {
   "display_name": "Python 3",
   "language": "python",
   "name": "python3"
  },
  "language_info": {
   "codemirror_mode": {
    "name": "ipython",
    "version": 3
   },
   "file_extension": ".py",
   "mimetype": "text/x-python",
   "name": "python",
   "nbconvert_exporter": "python",
   "pygments_lexer": "ipython3",
   "version": "3.12.3"
  }
 },
 "nbformat": 4,
 "nbformat_minor": 2
}

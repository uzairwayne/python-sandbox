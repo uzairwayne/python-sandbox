{
 "cells": [
  {
   "cell_type": "markdown",
   "metadata": {},
   "source": [
    "# practice Dictionary"
   ]
  },
  {
   "cell_type": "code",
   "execution_count": 1,
   "metadata": {},
   "outputs": [],
   "source": [
    "# Create an empty dictionary called dog\n",
    "dog = {}"
   ]
  },
  {
   "cell_type": "code",
   "execution_count": 2,
   "metadata": {},
   "outputs": [],
   "source": [
    "# Add name, color, breed, legs, age to the dog dictionary\n",
    "dog['name'] = 'Jackie'\n",
    "dog['color'] = 'black'\n",
    "dog['breed'] = 'Rottweiler'\n",
    "dog['legs'] = 4\n",
    "dog['age'] = 4"
   ]
  },
  {
   "cell_type": "code",
   "execution_count": 4,
   "metadata": {},
   "outputs": [],
   "source": [
    "# Create a student dictionary and add first_name, last_name, gender, age, marital status, skills, country, city and address as keys for the dictionary\n",
    "student = {\n",
    "  \"first_name\": \"Uzair\",\n",
    "  \"last_name\": \"Ahmed\",\n",
    "  \"gender\": \"Male\",\n",
    "  \"age\": 28,\n",
    "  \"marital status\": 'single',\n",
    "  \"skills\": ['programming', 'python', 'javascript'],\n",
    "  \"country\": 'Pakistan',\n",
    "  \"city\": 'Karachi',\n",
    "  \"address\": 'Street XYZ, boulvard abc, 123 lane',\n",
    "}"
   ]
  },
  {
   "cell_type": "code",
   "execution_count": 5,
   "metadata": {},
   "outputs": [
    {
     "data": {
      "text/plain": [
       "9"
      ]
     },
     "execution_count": 5,
     "metadata": {},
     "output_type": "execute_result"
    }
   ],
   "source": [
    "# Get the length of the student dictionary\n",
    "len(student)"
   ]
  },
  {
   "cell_type": "code",
   "execution_count": 37,
   "metadata": {},
   "outputs": [
    {
     "name": "stdout",
     "output_type": "stream",
     "text": [
      "['programming', 'python', 'javascript', 'typescript', 'backend development']\n",
      "<class 'list'>\n"
     ]
    }
   ],
   "source": [
    "# Get the value of skills and check the data type, it should be a list\n",
    "print(student['skills'])\n",
    "print(type(student['skills']))"
   ]
  },
  {
   "cell_type": "code",
   "execution_count": 18,
   "metadata": {},
   "outputs": [],
   "source": [
    "# Modify the skills values by adding one or two skills\n",
    "student['skills'].extend(['typescript', 'backend development'])"
   ]
  },
  {
   "cell_type": "code",
   "execution_count": 22,
   "metadata": {},
   "outputs": [
    {
     "data": {
      "text/plain": [
       "['first_name',\n",
       " 'last_name',\n",
       " 'gender',\n",
       " 'age',\n",
       " 'marital status',\n",
       " 'skills',\n",
       " 'country',\n",
       " 'city',\n",
       " 'address']"
      ]
     },
     "execution_count": 22,
     "metadata": {},
     "output_type": "execute_result"
    }
   ],
   "source": [
    "# Get the dictionary keys as a list\n",
    "list(student.keys())"
   ]
  },
  {
   "cell_type": "code",
   "execution_count": 23,
   "metadata": {},
   "outputs": [
    {
     "data": {
      "text/plain": [
       "['Uzair',\n",
       " 'Ahmed',\n",
       " 'Male',\n",
       " 28,\n",
       " 'single',\n",
       " ['programming', 'python', 'javascript', 'typescript', 'backend development'],\n",
       " 'Pakistan',\n",
       " 'Karachi',\n",
       " 'Street XYZ, boulvard abc, 123 lane']"
      ]
     },
     "execution_count": 23,
     "metadata": {},
     "output_type": "execute_result"
    }
   ],
   "source": [
    "# Get the dictionary values as a list\n",
    "list(student.values())"
   ]
  },
  {
   "cell_type": "code",
   "execution_count": 27,
   "metadata": {},
   "outputs": [
    {
     "data": {
      "text/plain": [
       "[('first_name', 'Uzair'),\n",
       " ('last_name', 'Ahmed'),\n",
       " ('gender', 'Male'),\n",
       " ('age', 28),\n",
       " ('marital status', 'single'),\n",
       " ('skills',\n",
       "  ['programming',\n",
       "   'python',\n",
       "   'javascript',\n",
       "   'typescript',\n",
       "   'backend development']),\n",
       " ('country', 'Pakistan'),\n",
       " ('city', 'Karachi'),\n",
       " ('address', 'Street XYZ, boulvard abc, 123 lane')]"
      ]
     },
     "execution_count": 27,
     "metadata": {},
     "output_type": "execute_result"
    }
   ],
   "source": [
    "# Change the dictionary to a list of tuples using  method\n",
    "list(student.items())"
   ]
  },
  {
   "cell_type": "code",
   "execution_count": 32,
   "metadata": {},
   "outputs": [],
   "source": [
    "# Delete one of the items in the dictionary\n",
    "del student['address']"
   ]
  },
  {
   "cell_type": "code",
   "execution_count": 34,
   "metadata": {},
   "outputs": [],
   "source": [
    "# Delete one of the dictionaries\n",
    "del dog"
   ]
  }
 ],
 "metadata": {
  "kernelspec": {
   "display_name": "Python 3",
   "language": "python",
   "name": "python3"
  },
  "language_info": {
   "codemirror_mode": {
    "name": "ipython",
    "version": 3
   },
   "file_extension": ".py",
   "mimetype": "text/x-python",
   "name": "python",
   "nbconvert_exporter": "python",
   "pygments_lexer": "ipython3",
   "version": "3.12.3"
  }
 },
 "nbformat": 4,
 "nbformat_minor": 2
}

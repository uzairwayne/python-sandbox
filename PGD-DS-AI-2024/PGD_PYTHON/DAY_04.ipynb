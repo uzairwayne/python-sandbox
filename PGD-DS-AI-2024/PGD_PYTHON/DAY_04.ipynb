{
 "cells": [
  {
   "cell_type": "code",
   "execution_count": 4,
   "metadata": {},
   "outputs": [
    {
     "name": "stdout",
     "output_type": "stream",
     "text": [
      "You failed the Exam\n"
     ]
    }
   ],
   "source": [
    "score = 30\n",
    "\n",
    "if score >= 50:\n",
    "  print(\"You passed the Exam\")\n",
    "if score < 50:\n",
    "  print(\"You failed the Exam\")"
   ]
  },
  {
   "cell_type": "code",
   "execution_count": 5,
   "metadata": {},
   "outputs": [
    {
     "name": "stdout",
     "output_type": "stream",
     "text": [
      "You failed the Exam\n"
     ]
    }
   ],
   "source": [
    "score = 30\n",
    "\n",
    "if score >= 50:\n",
    "  print(\"You passed the Exam\")\n",
    "else:\n",
    "  print(\"You failed the Exam\")"
   ]
  },
  {
   "cell_type": "code",
   "execution_count": 13,
   "metadata": {},
   "outputs": [
    {
     "name": "stdout",
     "output_type": "stream",
     "text": [
      "Sorry! You're not eligible to cast vote\n"
     ]
    }
   ],
   "source": [
    "age = input(\"What's your age?\")\n",
    "\n",
    "if int(age) > 17:\n",
    "  print(\"You're eligible to cast vote\")\n",
    "else:\n",
    "  print(\"Sorry! You're not eligible to cast vote\")"
   ]
  },
  {
   "cell_type": "code",
   "execution_count": 104,
   "metadata": {},
   "outputs": [
    {
     "ename": "ValueError",
     "evalue": "invalid literal for int() with base 10: '-1.2'",
     "output_type": "error",
     "traceback": [
      "\u001b[1;31m---------------------------------------------------------------------------\u001b[0m",
      "\u001b[1;31mValueError\u001b[0m                                Traceback (most recent call last)",
      "Cell \u001b[1;32mIn[104], line 9\u001b[0m\n\u001b[0;32m      3\u001b[0m \u001b[38;5;28;01mif\u001b[39;00m \u001b[38;5;129;01mnot\u001b[39;00m (number\u001b[38;5;241m.\u001b[39misdigit() \u001b[38;5;129;01mor\u001b[39;00m (number \u001b[38;5;129;01mand\u001b[39;00m number[\u001b[38;5;241m0\u001b[39m] \u001b[38;5;241m==\u001b[39m \u001b[38;5;124m'\u001b[39m\u001b[38;5;124m-\u001b[39m\u001b[38;5;124m'\u001b[39m \u001b[38;5;129;01mand\u001b[39;00m \n\u001b[0;32m      4\u001b[0m             \u001b[38;5;28mstr\u001b[39m\u001b[38;5;241m.\u001b[39misnumeric( \n\u001b[0;32m      5\u001b[0m             number[\u001b[38;5;241m1\u001b[39m:\u001b[38;5;28mlen\u001b[39m(number)] \n\u001b[0;32m      6\u001b[0m             \u001b[38;5;241m.\u001b[39mreplace(\u001b[38;5;124m'\u001b[39m\u001b[38;5;124m.\u001b[39m\u001b[38;5;124m'\u001b[39m, \u001b[38;5;124m'\u001b[39m\u001b[38;5;124m'\u001b[39m)))) \u001b[38;5;129;01mor\u001b[39;00m number \u001b[38;5;241m==\u001b[39m \u001b[38;5;28mstr\u001b[39m():\n\u001b[0;32m      7\u001b[0m   \u001b[38;5;28mprint\u001b[39m(\u001b[38;5;124m\"\u001b[39m\u001b[38;5;124mPlease enter valid number\u001b[39m\u001b[38;5;124m\"\u001b[39m)\n\u001b[1;32m----> 9\u001b[0m \u001b[38;5;28;01melif\u001b[39;00m \u001b[38;5;28;43mint\u001b[39;49m\u001b[43m(\u001b[49m\u001b[43mnumber\u001b[49m\u001b[43m)\u001b[49m \u001b[38;5;241m>\u001b[39m \u001b[38;5;241m0\u001b[39m:\n\u001b[0;32m     10\u001b[0m   \u001b[38;5;28mprint\u001b[39m(\u001b[38;5;124m\"\u001b[39m\u001b[38;5;124mNumber is Positive\u001b[39m\u001b[38;5;124m\"\u001b[39m)\n\u001b[0;32m     11\u001b[0m \u001b[38;5;28;01melif\u001b[39;00m \u001b[38;5;28mint\u001b[39m(number) \u001b[38;5;241m==\u001b[39m \u001b[38;5;241m0\u001b[39m:\n",
      "\u001b[1;31mValueError\u001b[0m: invalid literal for int() with base 10: '-1.2'"
     ]
    }
   ],
   "source": [
    "number = input(\"Enter number\")\n",
    "\n",
    "if not (number.isdigit() or (number and number[0] == '-' and \n",
    "            str.isnumeric( \n",
    "            number[1:len(number)] \n",
    "            .replace('.', '')))) or number == str():\n",
    "  print(\"Please enter valid number\")\n",
    "\n",
    "elif int(number) > 0:\n",
    "  print(\"Number is Positive\")\n",
    "elif int(number) == 0:\n",
    "  print(\"Number is Zero\")\n",
    "else:\n",
    "  print(\"Number is Negative\")"
   ]
  },
  {
   "cell_type": "code",
   "execution_count": 82,
   "metadata": {},
   "outputs": [
    {
     "name": "stdout",
     "output_type": "stream",
     "text": [
      "False\n"
     ]
    }
   ],
   "source": [
    "a = 4\n",
    "b = '4'\n",
    "print(a is b)"
   ]
  },
  {
   "cell_type": "code",
   "execution_count": 84,
   "metadata": {},
   "outputs": [
    {
     "name": "stdout",
     "output_type": "stream",
     "text": [
      "True\n"
     ]
    },
    {
     "name": "stderr",
     "output_type": "stream",
     "text": [
      "<>:1: SyntaxWarning: \"is\" with 'str' literal. Did you mean \"==\"?\n",
      "<>:1: SyntaxWarning: \"is\" with 'str' literal. Did you mean \"==\"?\n",
      "C:\\Users\\Uzair Ahmed\\AppData\\Local\\Temp\\ipykernel_35268\\1716091263.py:1: SyntaxWarning: \"is\" with 'str' literal. Did you mean \"==\"?\n",
      "  print('abc' is 'abc')\n"
     ]
    }
   ],
   "source": [
    "print('abc' is 'abc')"
   ]
  },
  {
   "cell_type": "code",
   "execution_count": 85,
   "metadata": {},
   "outputs": [
    {
     "name": "stdout",
     "output_type": "stream",
     "text": [
      "True\n"
     ]
    }
   ],
   "source": [
    "print(5 == 5.0)"
   ]
  },
  {
   "cell_type": "code",
   "execution_count": 87,
   "metadata": {},
   "outputs": [
    {
     "name": "stdout",
     "output_type": "stream",
     "text": [
      "False\n"
     ]
    },
    {
     "name": "stderr",
     "output_type": "stream",
     "text": [
      "<>:1: SyntaxWarning: \"is\" with 'int' literal. Did you mean \"==\"?\n",
      "<>:1: SyntaxWarning: \"is\" with 'int' literal. Did you mean \"==\"?\n",
      "C:\\Users\\Uzair Ahmed\\AppData\\Local\\Temp\\ipykernel_35268\\1222379382.py:1: SyntaxWarning: \"is\" with 'int' literal. Did you mean \"==\"?\n",
      "  print(5 is 1)\n"
     ]
    }
   ],
   "source": [
    "print(5 is 1)"
   ]
  },
  {
   "cell_type": "code",
   "execution_count": null,
   "metadata": {},
   "outputs": [],
   "source": []
  }
 ],
 "metadata": {
  "kernelspec": {
   "display_name": "Python 3",
   "language": "python",
   "name": "python3"
  },
  "language_info": {
   "codemirror_mode": {
    "name": "ipython",
    "version": 3
   },
   "file_extension": ".py",
   "mimetype": "text/x-python",
   "name": "python",
   "nbconvert_exporter": "python",
   "pygments_lexer": "ipython3",
   "version": "3.12.3"
  }
 },
 "nbformat": 4,
 "nbformat_minor": 2
}

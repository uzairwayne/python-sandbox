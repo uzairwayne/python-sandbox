{
 "cells": [
  {
   "cell_type": "markdown",
   "metadata": {},
   "source": [
    "## Final Examination\n",
    "## Name: Uzair Ahmed\n",
    "## Email: uzairahmedwyne@hotmail.com\n",
    "## Class: PGD - DSAI - B - VII\n",
    "## Module: Python For DS\n",
    "## Phone: +92 344 2491144"
   ]
  },
  {
   "cell_type": "markdown",
   "metadata": {},
   "source": [
    "Question 1: Lists (6 Marks)\n",
    "  1. Given the list numbers = [10, 20, 30, 40, 50], write a Python code snippet to:\n",
    "      - Append the number 60 to the list.\n",
    "      - Remove the number 20 from the list.\n",
    "      - Insert 80 at index 2.\n",
    "      - Print the sum of all the elements in the list."
   ]
  },
  {
   "cell_type": "code",
   "execution_count": 9,
   "metadata": {},
   "outputs": [
    {
     "name": "stdout",
     "output_type": "stream",
     "text": [
      "Remove the number 20 from the list [10, 30, 40, 50, 60]\n",
      "Insert 80 at index 2 [10, 30, 80, 40, 50, 60]\n",
      "sum of all the elements in the list 270\n"
     ]
    }
   ],
   "source": [
    "list_of_numbers = [10, 20, 30, 40, 50]\n",
    "list_of_numbers.append(60)\n",
    "list_of_numbers = [x for x in list_of_numbers if x != 20]\n",
    "print('Remove the number 20 from the list', list_of_numbers)\n",
    "list_of_numbers.insert(2 , 80)\n",
    "print('Insert 80 at index 2', list_of_numbers)\n",
    "print('sum of all the elements in the list', sum(list_of_numbers))"
   ]
  },
  {
   "cell_type": "markdown",
   "metadata": {},
   "source": [
    "Question 2: Tuples (6 Marks)\n",
    "\n",
    "  2. Consider the tuple coordinates = (12.5, 45.8, 33.1).\n",
    "      - Write a Python code snippet to unpack the values of the tuple into three variables: `x`, `y`, and `z`.\n",
    "      - Explain why tuples are generally preferred over lists for storing fixed sets of data."
   ]
  },
  {
   "cell_type": "code",
   "execution_count": 10,
   "metadata": {},
   "outputs": [
    {
     "name": "stdout",
     "output_type": "stream",
     "text": [
      "unpack the values of the tuple into three variables: `x`, `y`, and `z` 12.5 45.8 33.1\n"
     ]
    }
   ],
   "source": [
    "tuple_coords = (12.5, 45.8, 33.1)\n",
    "\n",
    "x, y, z = tuple_coords\n",
    "\n",
    "print(\"unpack the values of the tuple into three variables: `x`, `y`, and `z`\", x, y, z)"
   ]
  },
  {
   "cell_type": "markdown",
   "metadata": {},
   "source": [
    "- Question: Explain why tuples are generally preferred over lists for storing fixed sets of data\n",
    "    - Answer: This is because of the immutable nature of tuples which makes them best suited to store fixed set of data, so that even if some piece of code tries to\n",
    "  update it, it returns error which we can handle"
   ]
  },
  {
   "cell_type": "markdown",
   "metadata": {},
   "source": [
    "Question 3: Dictionaries (6 Marks)\n",
    "\n",
    "  3. Given the dictionary `student_scores = {Faraz: 85, Raza: 90, Ishaq: 78}`:\n",
    "      - Write a Python code snippet to add a new student `David` with a score of 92.\n",
    "      - Update Raza's score to 82.\n",
    "      - Write a code snippet to print all student names and their scores in the format: `Name: Score`."
   ]
  },
  {
   "cell_type": "code",
   "execution_count": 27,
   "metadata": {},
   "outputs": [
    {
     "name": "stdout",
     "output_type": "stream",
     "text": [
      "add a new student `David` with a score of 92 {'Faraz': 85, 'Raza': 90, 'Ishaq': 78, 'David': 92}\n",
      "Update Raza's score to 82 {'Faraz': 85, 'Raza': 82, 'Ishaq': 78, 'David': 92}\n",
      "Write a code snippet to print all student names and their scores in the format: `Name: Score`\n",
      "Faraz: 85\n",
      "Raza: 82\n",
      "Ishaq: 78\n",
      "David: 92\n"
     ]
    }
   ],
   "source": [
    "student_scores = {\"Faraz\": 85, \"Raza\": 90, \"Ishaq\": 78}\n",
    "\n",
    "student_scores.update({\"David\": 92})\n",
    "\n",
    "print(\"add a new student `David` with a score of 92\", student_scores)\n",
    "\n",
    "student_scores[\"Raza\"] = 82\n",
    "print(\"Update Raza's score to 82\", student_scores)\n",
    "\n",
    "print(\"Write a code snippet to print all student names and their scores in the format: `Name: Score`\")\n",
    "for name, score in student_scores.items():\n",
    "  print(f'{name}: {score}')"
   ]
  },
  {
   "cell_type": "markdown",
   "metadata": {},
   "source": [
    "Question 4: User-defined Functions (6 Marks)\n",
    "\n",
    "  4. Write a Python function called `calculate_mean` that takes a list of numbers as input and\n",
    "  returns the mean (average) of the numbers."
   ]
  },
  {
   "cell_type": "code",
   "execution_count": 25,
   "metadata": {},
   "outputs": [
    {
     "name": "stdout",
     "output_type": "stream",
     "text": [
      "average 2.875\n"
     ]
    }
   ],
   "source": [
    "def calculate_mean(list_of_numbers_args: list[float | int]):\n",
    "  return sum(list_of_numbers_args) / len(list_of_numbers_args)\n",
    "\n",
    "print('average', calculate_mean([1,2,3, 5.5]))"
   ]
  },
  {
   "cell_type": "markdown",
   "metadata": {},
   "source": [
    "Question 5: Lists and Dictionaries (8 Marks)\n",
    "\n",
    "  5. Write a Python function called `grade_students` that takes a dictionary of student names and\n",
    "  their scores, and returns a new dictionary with student names and their corresponding grades (A,\n",
    "  B, C, D, F). Use the following grading scale:\n",
    "  - A: 90-100\n",
    "  - B: 80-89\n",
    "  - C: 70-79\n",
    "  - D: 60-69\n",
    "  - F: Below 60"
   ]
  },
  {
   "cell_type": "code",
   "execution_count": 28,
   "metadata": {},
   "outputs": [
    {
     "name": "stdout",
     "output_type": "stream",
     "text": [
      "student name and grades {'Uzair': 'A', 'Azeem': 'F', 'Bilal': 'D', 'Kasmani': 'C'}\n"
     ]
    }
   ],
   "source": [
    "def grade_students(student_name_score_dict: dict[str, int | float]):\n",
    "  student_name_grade_dict = {}\n",
    "\n",
    "  for name in student_name_score_dict.keys():\n",
    "    grade = 'F'\n",
    "    if student_name_score_dict[name] >= 90:\n",
    "      grade = 'A'\n",
    "    elif student_name_score_dict[name] >= 80:\n",
    "      grade = 'B'\n",
    "    elif student_name_score_dict[name] >= 70:\n",
    "      grade = 'C'\n",
    "    elif student_name_score_dict[name] >= 60:\n",
    "      grade = 'D'\n",
    "    student_name_grade_dict[name] = grade\n",
    "\n",
    "  return student_name_grade_dict\n",
    "\n",
    "print('student name and grades', grade_students({\n",
    "  \"Uzair\": 90,\n",
    "  \"Azeem\": 50,\n",
    "  \"Bilal\": 60,\n",
    "  \"Kasmani\": 71,\n",
    "}))"
   ]
  },
  {
   "cell_type": "markdown",
   "metadata": {},
   "source": [
    "Question 6: Basic Pandas Functions (4 Marks)\n",
    "\n",
    "  6. Given a CSV file named `data.csv` with columns `Name`, `Age`, and `Salary`, write a Python code snippet using pandas to:\n",
    "  - Load the CSV file into a DataFrame.\n",
    "  - Display the first and last 5 rows of the DataFrame.\n",
    "  - Print the mean salary and see if any missing values present visualize the missing values if there."
   ]
  },
  {
   "cell_type": "code",
   "execution_count": 37,
   "metadata": {},
   "outputs": [
    {
     "name": "stdout",
     "output_type": "stream",
     "text": [
      "first 5 rows\n",
      "       Name  Age  Salary\n",
      "0    Alice   28   70000\n",
      "1      Bob   34   80000\n",
      "2  Charlie   29   65000\n",
      "3    David   40  120000\n",
      "4      Eva   22   50000\n",
      "\n",
      "last 5 rows\n",
      "      Name  Age  Salary\n",
      "5   Frank   36   95000\n",
      "6   Grace   30   72000\n",
      "7  Hannah   25   60000\n",
      "8     Ian   45  130000\n",
      "9    Jack   38  110000\n",
      "\n",
      "mean salary 85200.0\n",
      "\n",
      "see if any missing values present visualize the missing values if there\n",
      "Name      0\n",
      "Age       0\n",
      "Salary    0\n",
      "dtype: int64\n",
      "    Name    Age  Salary\n",
      "0  False  False   False\n",
      "1  False  False   False\n",
      "2  False  False   False\n",
      "3  False  False   False\n",
      "4  False  False   False\n",
      "5  False  False   False\n",
      "6  False  False   False\n",
      "7  False  False   False\n",
      "8  False  False   False\n",
      "9  False  False   False\n"
     ]
    }
   ],
   "source": [
    "import pandas as pd\n",
    "\n",
    "# Load the CSV file into a DataFrame.\n",
    "df = pd.read_csv(r'imports/data.csv')\n",
    "\n",
    "# Display the first and last 5 rows of the DataFrame.\n",
    "print('first 5 rows\\n', df.head())\n",
    "print()\n",
    "print('last 5 rows\\n', df.tail())\n",
    "print()\n",
    "\n",
    "# Print the mean salary\n",
    "print('mean salary', df['Salary'].mean())\n",
    "print(\"\\nsee if any missing values present visualize the missing values if there\")\n",
    "\n",
    "# see if any missing values present visualize the missing values if there.\n",
    "print(df.isna().sum())\n",
    "print(df.isna())"
   ]
  },
  {
   "cell_type": "markdown",
   "metadata": {},
   "source": [
    "Question 7: Pandas EDA - Summary Statistics (6 Marks)\n",
    "\n",
    "  7. Using the DataFrame from Question 6, write a Python code snippet to:\n",
    "  - Calculate and print summary statistics for the `Age` column (mean, median, standard deviation)."
   ]
  },
  {
   "cell_type": "code",
   "execution_count": 43,
   "metadata": {},
   "outputs": [
    {
     "data": {
      "text/plain": [
       "mean      32.700000\n",
       "median    32.000000\n",
       "std        7.165504\n",
       "Name: Age, dtype: float64"
      ]
     },
     "execution_count": 43,
     "metadata": {},
     "output_type": "execute_result"
    }
   ],
   "source": [
    "df['Age'].agg(['mean', 'median', 'std'])"
   ]
  },
  {
   "cell_type": "markdown",
   "metadata": {},
   "source": [
    "Question 8: Pandas EDA - Filtering Data (6 Marks)\n",
    "\n",
    "  8. Using the same DataFrame, write a Python code snippet to:\n",
    "  - Filter and print the records of employees who are older than 30 years."
   ]
  },
  {
   "cell_type": "code",
   "execution_count": 44,
   "metadata": {},
   "outputs": [
    {
     "data": {
      "text/html": [
       "<div>\n",
       "<style scoped>\n",
       "    .dataframe tbody tr th:only-of-type {\n",
       "        vertical-align: middle;\n",
       "    }\n",
       "\n",
       "    .dataframe tbody tr th {\n",
       "        vertical-align: top;\n",
       "    }\n",
       "\n",
       "    .dataframe thead th {\n",
       "        text-align: right;\n",
       "    }\n",
       "</style>\n",
       "<table border=\"1\" class=\"dataframe\">\n",
       "  <thead>\n",
       "    <tr style=\"text-align: right;\">\n",
       "      <th></th>\n",
       "      <th>Name</th>\n",
       "      <th>Age</th>\n",
       "      <th>Salary</th>\n",
       "    </tr>\n",
       "  </thead>\n",
       "  <tbody>\n",
       "    <tr>\n",
       "      <th>1</th>\n",
       "      <td>Bob</td>\n",
       "      <td>34</td>\n",
       "      <td>80000</td>\n",
       "    </tr>\n",
       "    <tr>\n",
       "      <th>3</th>\n",
       "      <td>David</td>\n",
       "      <td>40</td>\n",
       "      <td>120000</td>\n",
       "    </tr>\n",
       "    <tr>\n",
       "      <th>5</th>\n",
       "      <td>Frank</td>\n",
       "      <td>36</td>\n",
       "      <td>95000</td>\n",
       "    </tr>\n",
       "    <tr>\n",
       "      <th>8</th>\n",
       "      <td>Ian</td>\n",
       "      <td>45</td>\n",
       "      <td>130000</td>\n",
       "    </tr>\n",
       "    <tr>\n",
       "      <th>9</th>\n",
       "      <td>Jack</td>\n",
       "      <td>38</td>\n",
       "      <td>110000</td>\n",
       "    </tr>\n",
       "  </tbody>\n",
       "</table>\n",
       "</div>"
      ],
      "text/plain": [
       "    Name  Age  Salary\n",
       "1    Bob   34   80000\n",
       "3  David   40  120000\n",
       "5  Frank   36   95000\n",
       "8    Ian   45  130000\n",
       "9   Jack   38  110000"
      ]
     },
     "execution_count": 44,
     "metadata": {},
     "output_type": "execute_result"
    }
   ],
   "source": [
    "df[df['Age'] > 30]"
   ]
  },
  {
   "cell_type": "markdown",
   "metadata": {},
   "source": [
    "Question 9: Pandas EDA - Grouping Data (6 Marks)\n",
    "\n",
    "  9. Using the same DataFrame, write a Python code snippet to:\n",
    "  - Group the data by `Age` and calculate the mean salary for each age group.\n",
    "  - Print the result."
   ]
  },
  {
   "cell_type": "code",
   "execution_count": 53,
   "metadata": {},
   "outputs": [
    {
     "name": "stdout",
     "output_type": "stream",
     "text": [
      "Age\n",
      "22     50000.0\n",
      "25     60000.0\n",
      "28     70000.0\n",
      "29     65000.0\n",
      "30     72000.0\n",
      "34     80000.0\n",
      "36     95000.0\n",
      "38    110000.0\n",
      "40    120000.0\n",
      "45    130000.0\n",
      "Name: Salary, dtype: float64\n"
     ]
    }
   ],
   "source": [
    "grouped_df_by_age = df.groupby('Age')\n",
    "print(grouped_df_by_age['Salary'].mean())"
   ]
  },
  {
   "cell_type": "markdown",
   "metadata": {},
   "source": [
    "Question 10: User-defined Function and Pandas Integration (6 Marks)\n",
    "\n",
    "  10. Write a Python function called `load_and_describe_csv` that:\n",
    "  - Takes the filename of a CSV file as input.\n",
    "  - Loads the CSV file into a pandas DataFrame.\n",
    "  - Returns the DataFrame and its summary statistics."
   ]
  },
  {
   "cell_type": "code",
   "execution_count": 54,
   "metadata": {},
   "outputs": [
    {
     "name": "stdout",
     "output_type": "stream",
     "text": [
      "      Name  Age  Salary\n",
      "0    Alice   28   70000\n",
      "1      Bob   34   80000\n",
      "2  Charlie   29   65000\n",
      "3    David   40  120000\n",
      "4      Eva   22   50000\n",
      "\n",
      "             Age         Salary\n",
      "count  10.000000      10.000000\n",
      "mean   32.700000   85200.000000\n",
      "std     7.165504   27169.427263\n",
      "min    22.000000   50000.000000\n",
      "25%    28.250000   66250.000000\n",
      "50%    32.000000   76000.000000\n",
      "75%    37.500000  106250.000000\n",
      "max    45.000000  130000.000000\n"
     ]
    }
   ],
   "source": [
    "def load_and_describe_csv(filename):\n",
    "  df = pd.read_csv(rf'{filename}')\n",
    "\n",
    "  return df, df.describe()\n",
    "\n",
    "df, describe = load_and_describe_csv('imports/data.csv')\n",
    "print(df.head())\n",
    "print()\n",
    "print(describe)"
   ]
  }
 ],
 "metadata": {
  "kernelspec": {
   "display_name": "Python 3",
   "language": "python",
   "name": "python3"
  },
  "language_info": {
   "codemirror_mode": {
    "name": "ipython",
    "version": 3
   },
   "file_extension": ".py",
   "mimetype": "text/x-python",
   "name": "python",
   "nbconvert_exporter": "python",
   "pygments_lexer": "ipython3",
   "version": "3.12.3"
  }
 },
 "nbformat": 4,
 "nbformat_minor": 2
}

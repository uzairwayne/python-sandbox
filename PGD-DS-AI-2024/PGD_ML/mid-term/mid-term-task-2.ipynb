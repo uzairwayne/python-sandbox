{
 "cells": [
  {
   "cell_type": "markdown",
   "metadata": {},
   "source": [
    "# Key Concepts: Overfitting, Underfitting, Bias, and Variance\n",
    "\n",
    "## 1. Overfitting\n",
    "- When the model becomes **too smart** for its own good.\n",
    "- It learns the training data **too well**, even the random noise, so it fails to perform well on new data.\n",
    "- **Example**: Memorizing answers instead of actually understanding the topic.\n",
    "\n",
    "---\n",
    "\n",
    "## 2. Underfitting\n",
    "- The model is **too simple** and doesn’t learn enough from the data.\n",
    "- It tries to explain everything with just one or two rules when the problem is much more complex.\n",
    "- **Example**: Trying to predict something complicated using overly basic logic.\n",
    "\n",
    "---\n",
    "\n",
    "## 3. Bias\n",
    "- Bias happens when the model **makes the same mistakes repeatedly** because it’s too rigid or simplistic.\n",
    "- It ignores important patterns in the data.\n",
    "- **Example**: A stubborn friend who refuses to change their opinion despite new evidence.\n",
    "\n",
    "---\n",
    "\n",
    "## 4. Variance\n",
    "- Variance is when the model **overthinks** and reacts too much to small changes in the data.\n",
    "- This leads to inconsistent predictions on new data.\n",
    "- **Example**: A friend who keeps changing their mind based on every tiny detail.\n",
    "\n",
    "---\n",
    "\n",
    "**In short**:  \n",
    "- **Overfitting** = Too specific, bad at generalizing.  \n",
    "- **Underfitting** = Too simple, doesn’t learn enough.  \n",
    "- **Bias** = Stuck in its ways, oversimplifies.  \n",
    "- **Variance** = Overreacts, inconsistent."
   ]
  }
 ],
 "metadata": {
  "language_info": {
   "name": "python"
  }
 },
 "nbformat": 4,
 "nbformat_minor": 2
}

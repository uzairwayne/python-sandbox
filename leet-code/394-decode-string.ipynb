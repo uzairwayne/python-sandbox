{
 "cells": [
  {
   "cell_type": "markdown",
   "metadata": {},
   "source": [
    "https://leetcode.com/problems/decode-string/?envType=study-plan-v2&envId=leetcode-75\n",
    "\n",
    "Given an encoded string, return its decoded string.\n",
    "\n",
    "The encoding rule is: k[encoded_string], where the encoded_string inside the square brackets is being repeated exactly k times. Note that k is guaranteed to be a positive integer.\n",
    "\n",
    "You may assume that the input string is always valid; there are no extra white spaces, square brackets are well-formed, etc. Furthermore, you may assume that the original data does not contain any digits and that digits are only for those repeat numbers, k. For example, there will not be input like 3a or 2[4].\n",
    "\n",
    "The test cases are generated so that the length of the output will never exceed 105.\n",
    "\n",
    " \n",
    "\n",
    "Example 1:\n",
    "\n",
    "Input: s = \"3[a]2[bc]\"\n",
    "Output: \"aaabcbc\"\n",
    "Example 2:\n",
    "\n",
    "Input: s = \"3[a2[c]]\"\n",
    "Output: \"accaccacc\"\n",
    "Example 3:\n",
    "\n",
    "Input: s = \"2[abc]3[cd]ef\"\n",
    "Output: \"abcabccdcdcdef\"\n",
    " "
   ]
  },
  {
   "cell_type": "code",
   "execution_count": 171,
   "metadata": {},
   "outputs": [],
   "source": [
    "def rec_func(stack):\n",
    "    if not len(stack): return ''\n",
    "    char = stack.pop()\n",
    "\n",
    "    if char == ']':\n",
    "        temp_result = ''\n",
    "        while stack[-1] != '[':\n",
    "            temp_result = rec_func(stack) + temp_result\n",
    "        # remove the '[' char\n",
    "        stack.pop()\n",
    "        # get the digit char\n",
    "        counter = int(stack[-1]) if len(stack) else 0\n",
    "        lr = ''\n",
    "        while counter > 0:\n",
    "            lr += temp_result\n",
    "            counter -= 1\n",
    "        if len(stack):\n",
    "            # remove the digit char\n",
    "            stack.pop()\n",
    "        return lr\n",
    "    else:\n",
    "        return char\n",
    "\n",
    "class Solution:\n",
    "    def decodeString(self, string: str) -> str:\n",
    "        result = ''\n",
    "        stack = []\n",
    "\n",
    "        for char in string:\n",
    "            if char.isdigit() and len(stack) and stack[-1].isdigit():\n",
    "                stack[-1] = stack[-1] + char\n",
    "            else:\n",
    "                stack.append(char)\n",
    "        \n",
    "        while stack:\n",
    "            result = rec_func(stack) + result\n",
    "\n",
    "\n",
    "        return result"
   ]
  },
  {
   "cell_type": "code",
   "execution_count": 172,
   "metadata": {},
   "outputs": [
    {
     "name": "stdout",
     "output_type": "stream",
     "text": [
      "aaabcbc\n",
      "accaccacc\n",
      "abcabccdcdcdef\n",
      "leetcodeleetcodeleetcodeleetcodeleetcodeleetcodeleetcodeleetcodeleetcodeleetcodeleetcodeleetcodeleetcodeleetcodeleetcodeleetcodeleetcodeleetcodeleetcodeleetcodeleetcodeleetcodeleetcodeleetcodeleetcodeleetcodeleetcodeleetcodeleetcodeleetcodeleetcodeleetcodeleetcodeleetcodeleetcodeleetcodeleetcodeleetcodeleetcodeleetcodeleetcodeleetcodeleetcodeleetcodeleetcodeleetcodeleetcodeleetcodeleetcodeleetcodeleetcodeleetcodeleetcodeleetcodeleetcodeleetcodeleetcodeleetcodeleetcodeleetcodeleetcodeleetcodeleetcodeleetcodeleetcodeleetcodeleetcodeleetcodeleetcodeleetcodeleetcodeleetcodeleetcodeleetcodeleetcodeleetcodeleetcodeleetcodeleetcodeleetcodeleetcodeleetcodeleetcodeleetcodeleetcodeleetcodeleetcodeleetcodeleetcodeleetcodeleetcodeleetcodeleetcodeleetcodeleetcodeleetcodeleetcodeleetcodeleetcodeleetcode\n"
     ]
    }
   ],
   "source": [
    "sol = Solution()\n",
    "print(sol.decodeString('3[a]2[bc]'))\n",
    "print(sol.decodeString('3[a2[c]]'))\n",
    "print(sol.decodeString('2[abc]3[cd]ef'))\n",
    "print(sol.decodeString('100[leetcode]'))"
   ]
  }
 ],
 "metadata": {
  "kernelspec": {
   "display_name": ".venv",
   "language": "python",
   "name": "python3"
  },
  "language_info": {
   "codemirror_mode": {
    "name": "ipython",
    "version": 3
   },
   "file_extension": ".py",
   "mimetype": "text/x-python",
   "name": "python",
   "nbconvert_exporter": "python",
   "pygments_lexer": "ipython3",
   "version": "3.12.3"
  }
 },
 "nbformat": 4,
 "nbformat_minor": 2
}
